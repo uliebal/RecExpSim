{
 "cells": [
  {
   "cell_type": "markdown",
   "metadata": {},
   "source": [
    "# Simulation of Recombinant Protein Expression\n",
    "***\n",
    "\n",
    "## Introduction\n",
    "\n",
    "In this project, selected key steps of a biotechnological project for recombinant protein expressions are simulated. In biotechnology, the work is increasingly digitized with automated experiments. The main contributions of scientists shift from performing experiments in the wet lab to planning the experiments and analysing the data computationaly. This simulation provides an introduction into data streams in biotechnology. The goal is to optimize the expression rate of a protein above a minimum rate to make it economically competitive. To achieve this goal, virtual experiments have to be performed to optimize growth conditions and promoter sequence for the production. Finally, a comparison will be performed how the GC-content of the promoter affects the promoter activity. For assessment, please upload the GC-content versus promoter activity plot to Moodle.\n",
    "\n",
    "This simulation is based on a Jupyter Python Notebook. All the time you should work in this notebook named *1-Laboratory.ipynb*. You just have to work through it from top to bottom. There is no need to open another notebook or programming script. Later during the workflow of the laboratory tasks, you need to download an Excel file, which will be automatically created in the folder and will appear in the navigation panel on the left side. Moreover at the end of this notebook the created plot must be downloaded in the same way to upload it to Moodle.\n",
    "\n",
    "Notebooks are becoming popular to distribute data science solutions and to make coding flexible and user friendly. The Notebooks are composed of a sequence of cells that can be either text, like this introduction, or python code cells to be run. Code cells have a grey background, and after execution the output is shown directly beneath. A blue stripe on the left edge of the screen marks the currently active cell. More information on how to use Jupyter Notebooks are [here](https://medium.com/edureka/jupyter-notebook-cheat-sheet-88f60d1aca7). In general, two input modes exist: \n",
    "* Command mode: evaluation of code, `Escape` or click outside cell activates Command mode\n",
    "* Edit mode: writing into cells, `Enter` or double-click inside cell activates Edit mode\n",
    "\n",
    "Navigating in Jupyter:\n",
    "*  activate cell above/below: `arrow up/down keys` in Command mode.     \n",
    "*  execute cell: `Ctrl + Enter` in Command mode.\n",
    "*  hide/show navigation panel on the left: click on folder symbol or `Ctrl + b`\n",
    "*  here **`None`** designates places for user input\n",
    "\n",
    "A code cell can also be edited and executed multiple times. Next to the code cells in the upper left corner the status of the cell is displayed in square brackets. If you have not executed a cell yet, the brackets are empty. If the computer is currently executing the code, an small star appears there. If the cell has been executed, a number corresponding to the execution order of the cells is shown.\n",
    "\n",
    "The following information is important if you get stuck in the workflow or if you have changed the code to become dysfunctional. If the resources run out or you are unsatisfied with your choices, restart the kernel: click on Kernel in the top bar and select restart. All information on your strain and all you executions are resetted and you get a slightly different system, whose properties you have to find out again. If you have inserted your own code to the extend that the simulation is dysfunctional, or you have deleted original code accidentally and you wish to come back to the original state you have to delete the biolabsim folder. To do so, use the last cell in this notebook. You will have to shut down and reload the Jupyter Notebook instance as described in the last cell.\n",
    "\n",
    "The additional workbook named *2-Assistance.ipynb* contains guidance for some of the experiments. You can open it by double-click on the name in the left navigation panel. Then the notebook will open in a new window like you know it from a browser. To switch back to the original notebook, just select the other tab again or close the new one with the 'x'.     \n",
    "The workflow starts by preparing the computational system followed by strain characterization cultivations, experiments for promoter sequence selection and finally the experiment to measure the achieved expression rate.\n",
    "\n",
    "## Laboratory Tasks\n",
    "\n",
    "In this section all aspects of the laboratory are handled. As in every laboratory you only have a limited amount of resources. This means, for example, that the money available for the experiments and the required personnel, material and space are limited. You have a total of 40 of such resources at your disposal.\n",
    "\n",
    "## Workflow\n",
    "\n",
    "**1. Preparations for the experiments**\n",
    " \n",
    "*1.1 Set-up your laboratory*    \n",
    "*1.2 Choose your host organism*\n",
    " \n",
    "**2. Experiments**\n",
    " \n",
    "*2.1 Strain characterization cultivations*     \n",
    "*2.2 Promoter sequence selection*    \n",
    "*2.3 Measurement of the expression rate*      \n",
    "\n",
    "**3. Evaluation and visualization**\n",
    "\n",
    "<img src=\"Figures/ImageLaboratory.jpg\" width=\"250\">\n",
    "\n",
    "## 1. Preparations for the experiments\n",
    "\n",
    "### 1.1 System set-up \n",
    "Loading libraries and fixing visualization. No user input necessary."
   ]
  },
  {
   "cell_type": "code",
   "execution_count": null,
   "metadata": {},
   "outputs": [],
   "source": [
    "# Loading of important functionalities for the notebook:\n",
    "# Loading numpy, a library fo manipulation of numbers:\n",
    "import os\n",
    "import numpy as np\n",
    "# Loading matplotlib, a library for visualization:\n",
    "import matplotlib.pyplot as plt\n",
    "%matplotlib inline\n",
    "\n",
    "# Initialization, loading of all laboratory functionalities and stored models and information of the organisms:\n",
    "from BioLabSim.ModuleVirtualOrganism.HostSetup import Host\n",
    "\n",
    "print('System ready')"
   ]
  },
  {
   "cell_type": "markdown",
   "metadata": {},
   "source": [
    "### 1.2 Choose your host organism\n",
    "You have the choice between two organisms for recombinant expression, namely *E. coli* (abbr. Ecol) and *P. putida* (abbr. Pput).\n",
    "\n",
    "*E. coli* is a Gram-negative, facultative anaerobe and nonsporulating bacterium of the genus *Escherichia*. It is commonly found in the lower intestine of warm-blooded organisms. *E. coli* can be grown and cultured easily and inexpensively in a laboratory setting, and has been intensively investigated for over 60 years. The bacterium is the most widely studied prokaryotic model organism, and an important species in the fields of biotechnology and microbiology, where it has served as the host organism for the majority of work with recombinant DNA. Under favorable conditions, it takes as little as 20 minutes to reproduce. You can find more information here: [*Escherichia coli*](https://en.wikipedia.org/wiki/Escherichia_coli)      \n",
    "\n",
    "*Pseudomonas putida* is a Gram-negative road-shaped, saprotrophic soil bacterium occurring in various environmental niches, due to its metabolic versatility and low nutritional requirements. Initiated by the pioneering discovery of its high capability to degrade rather recalcitrant and inhibiting xenobiotics, extensive biochemical analysis of this bacterium has been carried out in recent years. In addition, *P. putida* shows a very high robustness against extreme environmental conditions such as high temperature, extreme pH, or the presence of toxins or inhibiting solvents. Additionally, it is genetically accessible and grows fast with simple nutrient demand. Meanwhile, *P. putida* is successfully used for the production of bio-based polymers and a broad range of chemicals, far beyond its initial purpose for the degradation of various toxic compounds. You can find more information here: [DOI: 10.1007/s00253-012-3928-0](https://www.researchgate.net/publication/221847539_Industrial_biotechnology_of_Pseudomonas_putida_and_related_species)\n",
    "\n",
    "To choose the host type the abbreviation into the `Mutant`-command like it is shown in the example below. In the following all characteristics and models of your organism are thereby stored under `myhost`. With the help of `myhost`, all experiments are carried out (in the form `myhost.experiment`). In addition, all generated measurement results, stored information and the remaining resources can be displayed.\n",
    "\n",
    "Example: `myhost = Mutant('Pput')`\n",
    "\n",
    "**Resource cost:**\n",
    "* **None**\n",
    "\n",
    "**Input:** \n",
    "* **'Ecol' or 'Pput'**\n"
   ]
  },
  {
   "cell_type": "code",
   "execution_count": null,
   "metadata": {},
   "outputs": [],
   "source": [
    "# User input is required in the following code lines:\n",
    "\n",
    "# To choose the host organism replace None in the 'Mutant'-command with the abbreviation:\n",
    "myhost = Host('Ecol') # None\n",
    "\n",
    "\n",
    "# No user input necessary in the following code lines:\n",
    "\n",
    "# host organism and remaining resources are displayed:\n",
    "myhost.show_BiotechSetting()"
   ]
  },
  {
   "cell_type": "markdown",
   "metadata": {},
   "source": [
    "## 2. Experiments\n",
    "\n",
    "### 2.1 Strain characterization cultivations\n",
    "You have to identify the optimal growth temperature, the corresponding maximum growth rate and the maximum biomass of your strain by cultivating the cells at different temperatures.      \n",
    "For the optimal temperature and the maximum biomass a random value from a certain interval was seleced during the initialization of the system. These intervals contain all possible values, specific to the organisms, that the parameters can take.\n",
    "\n",
    "The optimal growth temperature is randomly initiated based on the common temperature boundaries of mesophilic microorganisms, see the following website for more information: [Schmid, Rolf D., and Claudia Schmidt-Dannert. Biotechnology: An illustrated primer. John Wiley & Sons, 2016.](https://application.wiley-vch.de/books/sample/3527335153_c01.pdf)  \n",
    "\n",
    "Like in biological conditions, you will recognize random fluctuations of biomass measurements. Occasionally, a culture will not grow at all. It might be helpful to have biological replicates for further data processing later on, but be aware that each cultivation costs resources.     \n",
    "The biomass concentrations are only displayed in an Excel file called *Strain_characterization_experiments_ID.xlsx*. The file is created automatically after all experiments have been performed. You will find the Excel file in the left navigation panel of the folder you are in. To view and edit it, you first have to download it. To download the file to your computer, right click on it and choose 'Download'.        \n",
    "Also pay attention to the maximum biomass concentration that can be reached. This can also be found in the Excel file. It is the second important parameter for the final experiment by which the production rate is determined.      \n",
    "The third important parameter is the maximum growth rate. You have to calculate the corresponding growth rates directly in your Excel file called *Strain_characterization_experiments_ID.xlsx* to determine the maximum value and the optimal growth temperature more accurately. If you get stuck with the calculation or are looking for an example, you will find that in the other notebook *2-Assistance.ipynb*.     \n",
    "\n",
    "If you want to do another set of experiments afterwards, or if you want to repeat individual experiments, you should make sure that you change the ID of your set of experiments (experiments_ID), otherwise results already generated may be overwritten. By default the experiments_ID has the value 1 like it is shown in the code cell below. For example, you were able to restrict the temperature range in which the optimum temperature should be. Thatswhy you want to do further cultivations in this smaller interval. All you have to do is to change the experiments_ID variable in the code cell below by replacing 1 with for example 2.    \n",
    "\n",
    "Example: `temperature = np.array([35, 35, 42])`\n",
    "\n",
    "**Resource cost:**\n",
    "* **1 for each temperature**\n",
    "\n",
    "**Input:**\n",
    "* **Temperature array**\n",
    "* **experiments_ID variable name**"
   ]
  },
  {
   "cell_type": "code",
   "execution_count": null,
   "metadata": {},
   "outputs": [],
   "source": [
    "# User input is required in the following code lines:\n",
    "\n",
    "# When you have thought about the temperatures you want to test, type them one by one into the following 'temperatures'-vector by replacing 'None' with the vector as shown in the example above.\n",
    "temperatures = np.array([25,28,31,34,37]) # None\n",
    "# If you want to change the experiemnts_ID, replace 1 with another number. If this is not the case, no user input is required here.\n",
    "experiments_ID = 1 # Definition of an ID for the set of experiments\n",
    "\n",
    "\n",
    "# No user input necessary in all subsequent lines of code:\n",
    "\n",
    "# cultivations of your strain at the different temperatures one by one:\n",
    "myhost.make_TempGrowthExp(temperatures, experiments_ID)\n",
    "\n",
    "# host organism and remaining resources are displayed:\n",
    "myhost.show_BiotechSetting()"
   ]
  },
  {
   "cell_type": "markdown",
   "metadata": {},
   "source": [
    "### 2.2 Promoter sequence selection\n",
    "In bacteria, the initiation of transcription at promoters requires a dissociable specificity subunit of RNA polymerase called sigma that binds to the core to form the \"holoenzyme\". Sigma factors play critical roles in transcription initiation, including the recognition and opening of promoters as well as the initial steps in RNA synthesis. The number of sigma factors varies between bacterial species. Sigma factors are distinguished by their characteristic molecular weights. The primary sigma factor or the \"housekeeping\" sigma factor sigma70 of gram-negative rod-shaped bacteria has a molecular weight of 70 kDa. Every cell has such a \"housekeeping\" sigma factor that directs the bulk of transcription during active growth. The following article introduces the sigma70 transcription factor and reports the optimal recognition sequence that is responsible for gene expression in this project [https://doi.org/10.3390/biom5031245](https://doi.org/10.3390/biom5031245).     \n",
    "\n",
    "\n",
    "The total length of the promoters must be 40 nt. The following template serves as an aid for the creation of promoter sequences that meet the conditions for successfull promoter design. Replace the **X** with nucleotides and identify the best sequence:       \n",
    "\n",
    "##### GCCCA**XXXXXX**A**X**GC**XXX**C**X**CGT**XXX**GG**XXXXXX**TGCACG\n",
    "\n",
    "\n",
    "\n",
    "Create some promoters, write them down in an Excel sheet and test them, but be aware that each testing costs resources. To test the sequences, you have to clone each of them, introduce the resulting construct into the organism and then perform an expression test by measuring the promoter strength.\n",
    "\n",
    "#### 2.2.1 Cloning\n",
    "In order to perform a successful cloning, you have to design a suitable primer for each promoter. In addition, a melting temperature matching the primer sequence must be used.\n",
    "\n",
    "First create the primers matching your promoter sequences and the following characteristics and write them down in your Excel file. The primers should always start at the first nucleotide of the promoter sequences and are composed of complementary bases. You have to identify the optimal primer length of your strain. Like the optimal growth temperature this parameter was also randomly initiated based on a certain interval containing all values that the parameter can take so that cloning still works. Possible values for the optimal primer length are between 15 - 30 nucleotides and successfull primers need to be within 20% length distance.\n",
    "\n",
    "Then calculate the melting temperature for each primer and write it into your Excel sheet. On the following website you will find formulas for calculating the melting temperature. A sodium concentration of 100 mM is assumed. The deviation from the optimal melting temperature should be within 10%. Formulas for calculating the melting temperature: [genelink manual](https://www.genelink.com/Literature/ps/R26-6400-MW.pdf)     \n",
    "\n",
    "Finally perform a cloning with each pair of promoter and primer followed directly by the measurement of the promoter strength to test the expression. Each cloning experiment gets a specific Clone_ID like for exmaple : \"Clone_1\". This automatically designates the corresponding generated clone that contains the corresponding promoter sequence. To perform a cloning experiment, all you have to do is to execute the `Make_Cloning(Clone_ID, Promoter, Primer, Tm)`-command. For the parameters in this commmand you can enter either the appropriate variable or the respective name/value/sequence.    \n",
    "**Important note/warning:** For successful cloning, the primer length is not allowed to deviate too much from the optimal one specific for the strain, as described above. Furthermore, cloning will not work if the melting temperature deviates too much from the optimal one. This means it is quite common that the entire cloning step is a tricky and time consuming task.\n",
    "\n",
    "If the cloning fails, because one of the mentioned necessary conditions was not fulfilled, the sequence could not be multiplied and introduced into the organism. Then the melting temperature, the total primer length or the complementarity of bases may need to be adjusted. If you need help with this task or with the subsequent measurement of the promoter strength, you will find a template for the table to be created with an example sequence for a promoter in the other notebook *2-Assistance.ipynb*.\n",
    "\n",
    "**Resource cost:** \n",
    "* **1 for each clone**\n",
    "\n",
    "**Input:**\n",
    "* **Clone_ID**\n",
    "* **valid promoter sequence (40 nt)**\n",
    "* **Primer Sequence (15-30nt)**\n",
    "* **Melting Temperature**"
   ]
  },
  {
   "cell_type": "code",
   "execution_count": null,
   "metadata": {},
   "outputs": [],
   "source": [
    "# For each cloning, the Clone_ID, the promoter sequence, the corresponding primer and the melting temperature must be given.\n",
    "# For simplicity, you should define variables for these four parameters before and then put the variable names into the 'Make_Cloning()'-command later on.\n",
    "\n",
    "# The following lines of code are an example of these variables.\n",
    "# In this order the parameters must then be entered in the 'Make_Cloning()'-command for the actual cloning like it is shown below.\n",
    "\n",
    "# User input is required in the following code lines:\n",
    "\n",
    "# You have to replace None with the corresponding sequences (must be entered as strings) or the melting temperature.\n",
    "# To be able to clone further sequences, you have to define another set of all variables including the Clone_ID for each cloning.\n",
    "# To define a further Clone_ID you for example have to replace the number 1 in Clone_ID1 and Clone_1 with a different number.\n",
    "Clone_ID1 = 'Clone_1'\n",
    "Promoter1 = None\n",
    "Primer1 =   None\n",
    "Tm = None # melting temperature\n",
    "\n",
    "# cloning:\n",
    "myhost.make_Cloning(Clone_ID1, Promoter1, Primer1, Tm)\n",
    "\n",
    "\n",
    "# No user input necessary in all subsequent lines of code:\n",
    "\n",
    "# displays the generated clones and their properties:\n",
    "myhost.show_Library()\n",
    "# host organism and remaining resources are displayed:\n",
    "myhost.show_BiotechSetting()"
   ]
  },
  {
   "cell_type": "markdown",
   "metadata": {},
   "source": [
    "#### 2.2.2 Measurement of the promoter strength\n",
    "The promoter strength represents expression per cell. Later, it is multiplied by the growth rate and the biomass concentration in order to determine the expression rate. The expression rate of the product should be maximized. For further information and an illustration of the context, you can look at the last section of the second *2-Assistance.ipynb*-notebook. After successful cloning determine the promoter strength in a subsequent experiment by entering the ID of your clone into the `Make_MeasurePromoterStrength(Clone_ID)`-command like it is shown in the cell below. Document the promoter strengths together with the automatically determined GC contents in your Excel table. You will need both later when you evaluate the results. If an incorrect sequence is used, for example containing typing errors, an error may occur when measuring the promoter strength and also when measuring the expression rate. The error message is: \"Key Error 'X'\".\n",
    "\n",
    "**Resource cost:**\n",
    "* **1 each experiment**\n",
    "\n",
    "**Input:**\n",
    "* **In `myhost.Make_MeasurePromoterStrength()`: Clone_ID variable name**"
   ]
  },
  {
   "cell_type": "code",
   "execution_count": null,
   "metadata": {},
   "outputs": [],
   "source": [
    "# User input is required in the following code lines:\n",
    "\n",
    "# To determine the promoter strength replace None with the Clone_ID variable name (for example Clone_ID1) or the corresponding name of the clone like for example 'Clone_1'.\n",
    "myhost.measure_PromoterStrength(None)\n",
    "\n",
    "\n",
    "# No user input necessary in all subsequent lines of code:\n",
    "\n",
    "# displays the generated clones,their properties and their performance:\n",
    "myhost.show_Library()\n",
    "# host organism and remaining resources are displayed:\n",
    "myhost.show_BiotechSetting()"
   ]
  },
  {
   "cell_type": "markdown",
   "metadata": {},
   "source": [
    "### 2.3 Measurement of the expression rate\n",
    "Now that you have tested some promoter sequences, perform the production experiment with the best promoter sequence (Clone_ID) and use the determined optimal growth temperature (integer only), the corresponding maximum growth rate and the maximum possible biomass (integer only) that you can determine from your data. In this way you will achieve the maximum expression rate and thus the maximum yield of your product. The values for the biomass and the growth rate to be used should differ less than 10% from the maximum values. Pass these three named parameters in this order to the `Make_ProductionExperiment(Clone_ID, Temp, µ, Biomass)`-command like it is shown in the cell below. The `show_TargetExpressionRate`-command reports the minimum expression rate you should achieve with your experiment.\n",
    "\n",
    "**Resources:**\n",
    "* **3 each experiment**\n",
    "\n",
    "**Input:**\n",
    "* **in `myhost.Make_ProductionExperiment()`: Clone_ID variable name, Opt. Temp, Opt. Growth rate, Opt. Biomass**"
   ]
  },
  {
   "cell_type": "code",
   "execution_count": null,
   "metadata": {},
   "outputs": [],
   "source": [
    "myhost.show_TargetExpressionRate()\n",
    "\n",
    "# User input is required in the following code lines:\n",
    "\n",
    "# To perform the production experiment replace None with the Clone_ID variable name of your best performing clone, the optimal growth temperature, the corresponding maximum growth rate and the maximum biomass (in this order).\n",
    "myhost.measure_ProductionExperiment(None, None, None, None)\n",
    "\n",
    "\n",
    "# No user input necessary in all subsequent lines of code:\n",
    "\n",
    "# displays the generated clones, their properties and their performance:\n",
    "myhost.show_Library()\n",
    "# host organism and remaining resources are displayed:\n",
    "myhost.show_BiotechSetting()"
   ]
  },
  {
   "cell_type": "markdown",
   "metadata": {},
   "source": [
    "## 3. Summary and integration\n",
    "\n",
    "The biotechnological goal is the construction of a host strain with high productivity. Moreover, scientifically we like to investigate the relationship between promoter strength and GC content, does the GC content predict the promoter strength? First, you will examine your own data in a plot for correlation, subsequently, all groups will enter their results for the species specific promoter strength versus GC content plot in an online plot. The online plot shows the results of all groups and allows a more solid conclusion.\n",
    "\n",
    "\n",
    "### 3.1 Visualization of the results\n",
    "\n",
    "Summarize your results from the laboratory workflow in a graph by plotting the promoter strengths of your promoter sequences against the respective GC contents. The promoter strength is directly proportional to the expression rate. With the `plot_ReferencePromoterStrength`-command the promoter strength of a very well suited sequence will be displayed additionally in your plot to compare your results.      \n",
    "\n",
    "The following code cell automatically generates and stores the plot of promoter strengths versus GC contents. The figure file in png-format is stored in the current work directory and you can find it in the left navigation panel of the folder you are in (folder icon in the upper left corner). To download the file to your computer, right click on it and choose 'Download'.     "
   ]
  },
  {
   "cell_type": "code",
   "execution_count": null,
   "metadata": {},
   "outputs": [],
   "source": [
    "# No user input necessary in the following code lines:\n",
    "\n",
    "x = [myhost.var_Library[cid]['Promoter_GC-content'] for cid in myhost.var_Library]\n",
    "y = [myhost.var_Library[cid]['Promoter_Strength'] for cid in myhost.var_Library]\n",
    "\n",
    "# plotting of your values:\n",
    "plt.figure(figsize = (4.5,3), dpi = 120)\n",
    "plt.plot(x,y, linestyle = '--', marker = 'x', color = 'grey')\n",
    "\n",
    "# plotting the strength of a very well suited promoter sequence:\n",
    "myhost.plot_ReferencePromoterStrength()\n",
    "\n",
    "# manage the axes and adding a title:\n",
    "plt.xlim(.2,.8)\n",
    "plt.ylim(.5,3)\n",
    "plt.xlabel('GC content [-]')\n",
    "plt.ylabel('promoter strength [-]')\n",
    "plt.title(myhost.var_Host) # host organism as title\n",
    "\n",
    "\n",
    "# User input can be made in the following code lines, if desired:\n",
    "\n",
    "# Saving the created image. If you like adjust the name of the image file in the brackets of the command so that it e.g. also contains your name:\n",
    "plt.savefig('PromoterStrength-Versus-GCcontent.png', type='png')\n",
    "plt.show()"
   ]
  },
  {
   "cell_type": "markdown",
   "metadata": {},
   "source": [
    "### 3.2 Evaluation by cross-group integration\n",
    "\n",
    "To get a more statistical sound result on the correlation between promoter strength and GC content all groups enter their results in an online feedback system: \n",
    "\n",
    "https://arsnova.eu/mobile/#id/20126509\n",
    "\n",
    "After following the link, click on 'Presentation' to enter. The feedback system has two questions, one for the results in *E. coli* and one question for *P. putida*. Enter you results in your corresponding question and click on 'Abstention' in the other question. You enter your values by clicking on the corresponding fields in the displayed plot and subsequent saving of the input. Once all groups have entered their results, you can check the distribution of all promoter strength versus GC content measurements by accessing the questions again and clicking on the orange colored bar chart button on the upper right.\n",
    "\n"
   ]
  },
  {
   "cell_type": "markdown",
   "metadata": {},
   "source": [
    "## Feedback\n",
    "\n",
    "It would be great if you could help us improving the simulation for the next generation of your fellows. Please provide a feedback in the following form:\n",
    "[https://forms.gle/b3dTEu4LsJh8w7eX7](https://forms.gle/b3dTEu4LsJh8w7eX7)"
   ]
  },
  {
   "cell_type": "markdown",
   "metadata": {},
   "source": [
    "## Delete local BioLabSim instance\n",
    "\n",
    "Execute the code below to delete a local BioLabSim instance. Do this if you have changed the code and you want to get back the original version. You will have to load a new BioLabSim simulation. The code is commented by default, activate the code by removing the `# ` in the first line. To enable the reloading of the initial BioLabSim-Version, you have to go through the following sequence:\n",
    "1.  click on `File/Datei` in the Jupyter Notebook Window\n",
    "2.  click on `Hub Control Panel` (second from below)\n",
    "3.  click on `Stop My Server` and wait a little for the process to finish\n",
    "4.  click on `Start My Server`\n",
    "5.  click on `Launch Server`\n",
    "6.  select `[BioLabSim] Biotechnologie` (page bottom) and click on start"
   ]
  },
  {
   "cell_type": "code",
   "execution_count": null,
   "metadata": {},
   "outputs": [],
   "source": [
    "# !cd ..; rm -rf biolabsim\n",
    "mylist = os.listdir()\n",
    "if '1-Laboratory.ipynb' not in mylist:\n",
    "    print('BioLabSim deleted')\n",
    "else:\n",
    "    print('BioLabSim available')\n"
   ]
  },
  {
   "cell_type": "markdown",
   "metadata": {},
   "source": [
    "#### Package dependencies"
   ]
  },
  {
   "cell_type": "code",
   "execution_count": null,
   "metadata": {},
   "outputs": [],
   "source": [
    "%load_ext watermark\n",
    "%watermark -v -m -p ipywidgets,matplotlib,numpy,pandas,sklearn,scipy,joblib,watermark"
   ]
  }
 ],
 "metadata": {
  "kernelspec": {
   "display_name": "Python 3",
   "language": "python",
   "name": "python3"
  },
  "language_info": {
   "codemirror_mode": {
    "name": "ipython",
    "version": 3
   },
   "file_extension": ".py",
   "mimetype": "text/x-python",
   "name": "python",
   "nbconvert_exporter": "python",
   "pygments_lexer": "ipython3",
   "version": "3.7.6"
  }
 },
 "nbformat": 4,
 "nbformat_minor": 4
}
