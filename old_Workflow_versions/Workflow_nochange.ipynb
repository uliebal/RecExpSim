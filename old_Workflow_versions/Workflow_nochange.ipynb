{
 "cells": [
  {
   "cell_type": "markdown",
   "metadata": {},
   "source": [
    "### Introduction\n",
    "This Workflow simulates putting the E. Coli core genome under the regulation of specific transcription factors and mutating certain reactions. The programm then calculates the changed metabolic flux. The changes can be visualized with an *escher* metabolic map."
   ]
  },
  {
   "cell_type": "markdown",
   "metadata": {},
   "source": [
    "### Set up symstem"
   ]
  },
  {
   "cell_type": "code",
   "execution_count": 1,
   "metadata": {
    "scrolled": true
   },
   "outputs": [
    {
     "name": "stdout",
     "output_type": "stream",
     "text": [
      "System ready\n"
     ]
    }
   ],
   "source": [
    "# changed or new functions for this workflow\n",
    "%run \"TFMetEngSim.ipynb\" \n",
    "\n",
    "print('System ready')"
   ]
  },
  {
   "cell_type": "markdown",
   "metadata": {},
   "source": [
    "### Set up wildtype and add transcription factor regulation\n",
    "Set the name of the transcriptionfactor as string on the second variable of `add_TranscriptionFactor()` and set the RctIDs of the targeted enzymes as list of strings as the third variable. Add more rows with more regulators if needed."
   ]
  },
  {
   "cell_type": "code",
   "execution_count": 5,
   "metadata": {},
   "outputs": [
    {
     "name": "stdout",
     "output_type": "stream",
     "text": [
      "Wild type growth rate: 0.87\n"
     ]
    }
   ],
   "source": [
    "wtHost = Ecol()\n",
    "print('Wild type growth rate: {:.2f}'.format(wtHost.strain.objective))\n",
    "WTdf = wtHost.strain.genes_df "
   ]
  },
  {
   "cell_type": "markdown",
   "metadata": {},
   "source": [
    "### Mutate the Host\n",
    "Insert the RctIDs of the Reactions you want to mutate in `Mutants` as a list of strings. \n",
    "Insert the mutated Sequence in `insertSeq` as a string.\n",
    "The sequence to be replaced is standardized as the always present ATTGA."
   ]
  },
  {
   "cell_type": "code",
   "execution_count": 14,
   "metadata": {},
   "outputs": [],
   "source": [
    "# Generating mutant (define the mutations by hand and delete the automatically generated genome for now)\n",
    "\n",
    "myHost = deepcopy(wtHost)\n",
    "\n",
    "MTdf = myHost.strain.genes_df"
   ]
  },
  {
   "cell_type": "code",
   "execution_count": 37,
   "metadata": {},
   "outputs": [
    {
     "data": {
      "text/html": [
       "<div>\n",
       "<style scoped>\n",
       "    .dataframe tbody tr th:only-of-type {\n",
       "        vertical-align: middle;\n",
       "    }\n",
       "\n",
       "    .dataframe tbody tr th {\n",
       "        vertical-align: top;\n",
       "    }\n",
       "\n",
       "    .dataframe thead th {\n",
       "        text-align: right;\n",
       "    }\n",
       "</style>\n",
       "<table border=\"1\" class=\"dataframe\">\n",
       "  <thead>\n",
       "    <tr style=\"text-align: right;\">\n",
       "      <th></th>\n",
       "      <th>RctID</th>\n",
       "      <th>Expression</th>\n",
       "      <th>Promoter</th>\n",
       "      <th>ORF</th>\n",
       "      <th>Fluxes</th>\n",
       "      <th>Expr2Flux</th>\n",
       "    </tr>\n",
       "  </thead>\n",
       "  <tbody>\n",
       "    <tr>\n",
       "      <th>0</th>\n",
       "      <td>PFK</td>\n",
       "      <td>2.916</td>\n",
       "      <td>GCCCATTGACGCTGAATTTACAGCTGGATACTTTTGCACG</td>\n",
       "      <td>ATGGTCGAACCGTAA</td>\n",
       "      <td>1.0</td>\n",
       "      <td>2.564260</td>\n",
       "    </tr>\n",
       "    <tr>\n",
       "      <th>1</th>\n",
       "      <td>PFL</td>\n",
       "      <td>3.288</td>\n",
       "      <td>GCCCATTGACTGATTATCCATCAGGTAATACCTTTGCACG</td>\n",
       "      <td>ATGCTGTCTGAGTAA</td>\n",
       "      <td>1.0</td>\n",
       "      <td>0.000000</td>\n",
       "    </tr>\n",
       "    <tr>\n",
       "      <th>2</th>\n",
       "      <td>PGI</td>\n",
       "      <td>1.991</td>\n",
       "      <td>GCCCATTGACCGTCTCCACGCGAAGCCATATCGTTGCACG</td>\n",
       "      <td>ATGGGTCAGCTGTGA</td>\n",
       "      <td>1.0</td>\n",
       "      <td>2.441417</td>\n",
       "    </tr>\n",
       "    <tr>\n",
       "      <th>3</th>\n",
       "      <td>PGK</td>\n",
       "      <td>4.633</td>\n",
       "      <td>GCCCATTGACATAGTATATTCTACTCTATACCGTTGCACG</td>\n",
       "      <td>ATGCTCCCATACTGA</td>\n",
       "      <td>1.0</td>\n",
       "      <td>-3.458564</td>\n",
       "    </tr>\n",
       "    <tr>\n",
       "      <th>4</th>\n",
       "      <td>PGL</td>\n",
       "      <td>2.603</td>\n",
       "      <td>GCCCATTGAACATGCCAACGGGTAATTCTAACCTTGCACG</td>\n",
       "      <td>ATGGACTCCCGCTGA</td>\n",
       "      <td>1.0</td>\n",
       "      <td>1.905488</td>\n",
       "    </tr>\n",
       "    <tr>\n",
       "      <th>...</th>\n",
       "      <td>...</td>\n",
       "      <td>...</td>\n",
       "      <td>...</td>\n",
       "      <td>...</td>\n",
       "      <td>...</td>\n",
       "      <td>...</td>\n",
       "    </tr>\n",
       "    <tr>\n",
       "      <th>90</th>\n",
       "      <td>NADH16</td>\n",
       "      <td>1.807</td>\n",
       "      <td>GCCCATTGATCACGTGTTGCGGGGAGTATAACCTTGCACG</td>\n",
       "      <td>ATGTCCTCTCATTAG</td>\n",
       "      <td>1.0</td>\n",
       "      <td>21.325185</td>\n",
       "    </tr>\n",
       "    <tr>\n",
       "      <th>91</th>\n",
       "      <td>NADTRHD</td>\n",
       "      <td>1.141</td>\n",
       "      <td>GCCCATTGAGCCTCCCTAGGATAGCGGCTACTGTTGCACG</td>\n",
       "      <td>ATGAATCAATCATAG</td>\n",
       "      <td>1.0</td>\n",
       "      <td>0.000000</td>\n",
       "    </tr>\n",
       "    <tr>\n",
       "      <th>92</th>\n",
       "      <td>NH4t</td>\n",
       "      <td>1.266</td>\n",
       "      <td>GCCCATTGACGTATGTGGCGAGGCAGCATAGGGTTGCACG</td>\n",
       "      <td>ATGGAACGCCCATAA</td>\n",
       "      <td>1.0</td>\n",
       "      <td>3.764075</td>\n",
       "    </tr>\n",
       "    <tr>\n",
       "      <th>93</th>\n",
       "      <td>O2t</td>\n",
       "      <td>1.109</td>\n",
       "      <td>GCCCATTGATTACTCTTACGTATTCGTGTATGCTTGCACG</td>\n",
       "      <td>ATGATTGTTCTTTAA</td>\n",
       "      <td>1.0</td>\n",
       "      <td>19.656891</td>\n",
       "    </tr>\n",
       "    <tr>\n",
       "      <th>94</th>\n",
       "      <td>PDH</td>\n",
       "      <td>1.488</td>\n",
       "      <td>GCCCATTGAGTGCATAGCAGGTACGGATTACATTTGCACG</td>\n",
       "      <td>ATGCTGAATGTATAA</td>\n",
       "      <td>1.0</td>\n",
       "      <td>6.238261</td>\n",
       "    </tr>\n",
       "  </tbody>\n",
       "</table>\n",
       "<p>95 rows × 6 columns</p>\n",
       "</div>"
      ],
      "text/plain": [
       "      RctID  Expression                                  Promoter  \\\n",
       "0       PFK       2.916  GCCCATTGACGCTGAATTTACAGCTGGATACTTTTGCACG   \n",
       "1       PFL       3.288  GCCCATTGACTGATTATCCATCAGGTAATACCTTTGCACG   \n",
       "2       PGI       1.991  GCCCATTGACCGTCTCCACGCGAAGCCATATCGTTGCACG   \n",
       "3       PGK       4.633  GCCCATTGACATAGTATATTCTACTCTATACCGTTGCACG   \n",
       "4       PGL       2.603  GCCCATTGAACATGCCAACGGGTAATTCTAACCTTGCACG   \n",
       "..      ...         ...                                       ...   \n",
       "90   NADH16       1.807  GCCCATTGATCACGTGTTGCGGGGAGTATAACCTTGCACG   \n",
       "91  NADTRHD       1.141  GCCCATTGAGCCTCCCTAGGATAGCGGCTACTGTTGCACG   \n",
       "92     NH4t       1.266  GCCCATTGACGTATGTGGCGAGGCAGCATAGGGTTGCACG   \n",
       "93      O2t       1.109  GCCCATTGATTACTCTTACGTATTCGTGTATGCTTGCACG   \n",
       "94      PDH       1.488  GCCCATTGAGTGCATAGCAGGTACGGATTACATTTGCACG   \n",
       "\n",
       "                ORF  Fluxes  Expr2Flux  \n",
       "0   ATGGTCGAACCGTAA     1.0   2.564260  \n",
       "1   ATGCTGTCTGAGTAA     1.0   0.000000  \n",
       "2   ATGGGTCAGCTGTGA     1.0   2.441417  \n",
       "3   ATGCTCCCATACTGA     1.0  -3.458564  \n",
       "4   ATGGACTCCCGCTGA     1.0   1.905488  \n",
       "..              ...     ...        ...  \n",
       "90  ATGTCCTCTCATTAG     1.0  21.325185  \n",
       "91  ATGAATCAATCATAG     1.0   0.000000  \n",
       "92  ATGGAACGCCCATAA     1.0   3.764075  \n",
       "93  ATGATTGTTCTTTAA     1.0  19.656891  \n",
       "94  ATGCTGAATGTATAA     1.0   6.238261  \n",
       "\n",
       "[95 rows x 6 columns]"
      ]
     },
     "execution_count": 37,
     "metadata": {},
     "output_type": "execute_result"
    }
   ],
   "source": [
    "WTdf['Fluxes']= 2.0\n",
    "WTdf\n",
    "MTdf['Fluxes']= 1.0\n",
    "MTdf"
   ]
  },
  {
   "cell_type": "markdown",
   "metadata": {},
   "source": [
    "## Calculation of mutant flux distribution\n",
    "The updated expression activities are converted to reference flux values and according to the reference flux new boundaries are set in the GSMM. The wild type and mutant flux distributions are stored in a dictionary for visualization in Escher."
   ]
  },
  {
   "cell_type": "code",
   "execution_count": 38,
   "metadata": {},
   "outputs": [],
   "source": [
    "# solution,_ = Help_FluxCalculator('Ecol', myHost.strain, AllNewDF)\n",
    "RefFluxDict = WTdf.set_index('RctID')['Fluxes'].to_dict()\n",
    "NewFluxDict = {a:b for a,b in zip(WTdf['RctID'].values, MTdf['Fluxes'].values)}\n",
    "AllFluxDict = [RefFluxDict, NewFluxDict]\n",
    "# {WTdf['RctID'].tolist(): solution}"
   ]
  },
  {
   "cell_type": "markdown",
   "metadata": {},
   "source": [
    "### Visualization of flux differences\n",
    "Escher is used to visualize the flux differences on the central carbon metabolism map. Open the output-html file `Escher-Metabol-Map.html` by double click in the Jupyter Lab environment and `Trust` the file.\n",
    "\n",
    "Then load the out.json file in Data -> load reaction data"
   ]
  },
  {
   "cell_type": "code",
   "execution_count": 39,
   "metadata": {},
   "outputs": [],
   "source": [
    "# name of the new file\n",
    "filename = 'all2_1'"
   ]
  },
  {
   "cell_type": "code",
   "execution_count": 40,
   "metadata": {},
   "outputs": [
    {
     "name": "stdout",
     "output_type": "stream",
     "text": [
      "created json file\n"
     ]
    }
   ],
   "source": [
    "# create json file of AllFluxDict\n",
    "\n",
    "import json\n",
    "\n",
    "flux_dictionary = AllFluxDict\n",
    "with open(filename+'.json', 'w') as f:\n",
    "    json.dump(flux_dictionary, f)\n",
    "    \n",
    "print('created json file')"
   ]
  },
  {
   "cell_type": "markdown",
   "metadata": {},
   "source": [
    "### Additional tools"
   ]
  },
  {
   "cell_type": "code",
   "execution_count": null,
   "metadata": {},
   "outputs": [],
   "source": [
    "# load to excel file\n",
    "AllNewDF.to_excel(filename+'.xlsx')"
   ]
  },
  {
   "cell_type": "code",
   "execution_count": null,
   "metadata": {},
   "outputs": [],
   "source": [
    "# for visualizing all rows of a dataframe:\n",
    "pd.set_option('display.max_rows', None)\n",
    "# insert the name of the Dataframe:\n",
    "#AllNewDF"
   ]
  },
  {
   "cell_type": "code",
   "execution_count": null,
   "metadata": {},
   "outputs": [],
   "source": [
    "# test the strength of a promoter\n",
    "a = Help_PromoterStrength('Ecol', 'GCCCATTCCCCTGGAAGCCGAAGGTGGTCGAGCGATATAATTGCACG')\n",
    "a"
   ]
  },
  {
   "cell_type": "markdown",
   "metadata": {},
   "source": [
    "##### Combinations of promoters and mutations:\n",
    "\n",
    "Promoter: GCCCATTGACAAGGCTCTCGCGGCCAGGTATAATTGCAAA\n",
    "\n",
    "* 5.537 --> 1.507:  'TAATTCCCC'\n",
    "\n",
    "Promoter: GCCCATTGAGCCGAAGGTGGTCGAGCGATATAATTGCACG\n",
    "\n",
    "* 1.7 --> 3.419:  'ATTCCCCTGGAA'\n"
   ]
  }
 ],
 "metadata": {
  "kernelspec": {
   "display_name": "Python 3",
   "language": "python",
   "name": "python3"
  },
  "language_info": {
   "codemirror_mode": {
    "name": "ipython",
    "version": 3
   },
   "file_extension": ".py",
   "mimetype": "text/x-python",
   "name": "python",
   "nbconvert_exporter": "python",
   "pygments_lexer": "ipython3",
   "version": "3.8.5"
  }
 },
 "nbformat": 4,
 "nbformat_minor": 4
}
