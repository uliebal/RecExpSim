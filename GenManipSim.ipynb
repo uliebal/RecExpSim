{
 "cells": [
  {
   "cell_type": "markdown",
   "id": "altered-radical",
   "metadata": {},
   "source": [
    "# Genetic manipulation\n",
    "\n",
    "using pydna"
   ]
  },
  {
   "cell_type": "code",
   "execution_count": 13,
   "id": "periodic-bathroom",
   "metadata": {},
   "outputs": [],
   "source": [
    "from pydna.genbank import Genbank\n",
    "from pydna.parsers import parse_primers\n",
    "from pydna.amplify import pcr\n",
    "from Bio.Restriction import BamHI, BglII\n",
    "from pydna.gel import Gel, weight_standard_sample\n",
    "# from pydna import PennStateLadder"
   ]
  },
  {
   "cell_type": "code",
   "execution_count": 6,
   "id": "temporal-findings",
   "metadata": {},
   "outputs": [],
   "source": [
    "gb = Genbank('ulf.liebal@rwth-aachen.de')"
   ]
  },
  {
   "cell_type": "code",
   "execution_count": 7,
   "id": "interested-control",
   "metadata": {},
   "outputs": [
    {
     "data": {
      "text/plain": [
       "Dseq(o9637)\n",
       "GAAT..TCAA\n",
       "CTTA..AGTT"
      ]
     },
     "execution_count": 7,
     "metadata": {},
     "output_type": "execute_result"
    }
   ],
   "source": [
    "YEp24PGK = gb.nucleotide('KC562906')\n",
    "YEp24PGK.seq\n",
    "# pUCP22 = gb.nucleotide('U07166')\n",
    "# pUCP22.seq"
   ]
  },
  {
   "cell_type": "code",
   "execution_count": 8,
   "id": "existing-modern",
   "metadata": {},
   "outputs": [],
   "source": [
    "p1, p3 = parse_primers('''\n",
    ">primer1\n",
    "GCGGATCCTCTAGAATGGTTTGTTCAGTAATTCAG\n",
    ">primer3\n",
    "AGATCTGGATCCTTAGATGAGAGTCTTTTCCAG''')\n"
   ]
  },
  {
   "cell_type": "code",
   "execution_count": 9,
   "id": "fewer-receptor",
   "metadata": {},
   "outputs": [
    {
     "data": {
      "text/plain": [
       "                    5TGTTCAGTAATTCAG...CTGGAAAAGACTCTCATCTAA3\n",
       "                                       |||||||||||||||||||||\n",
       "                                      3GACCTTTTCTGAGAGTAGATTCCTAGGTCTAGA5\n",
       "5GCGGATCCTCTAGAATGGTTTGTTCAGTAATTCAG3\n",
       "                     |||||||||||||||\n",
       "                    3ACAAGTCATTAAGTC...GACCTTTTCTGAGAGTAGATT5"
      ]
     },
     "execution_count": 9,
     "metadata": {},
     "output_type": "execute_result"
    }
   ],
   "source": [
    "XKS1 = gb.nucleotide(\"Z72979\").rc()\n",
    "PCR_prod = pcr(p1, p3, XKS1)\n",
    "PCR_prod.figure()"
   ]
  },
  {
   "cell_type": "code",
   "execution_count": 23,
   "id": "australian-cattle",
   "metadata": {},
   "outputs": [
    {
     "data": {
      "text/plain": [
       "Dseq(-1819)\n",
       "GATCCTCT..TAAG    \n",
       "    GAGA..ATTCCTAG"
      ]
     },
     "execution_count": 23,
     "metadata": {},
     "output_type": "execute_result"
    }
   ],
   "source": [
    "stuffer1, insert, stuffer2 = PCR_prod.cut(BamHI)\n",
    "insert.seq\n",
    "# st = weight_standard_sample('1kb+_GeneRuler')\n",
    "# mygel = Gel([st,[PCR_prod]], gel_len=16)#.run()"
   ]
  },
  {
   "cell_type": "code",
   "execution_count": null,
   "id": "ambient-superior",
   "metadata": {},
   "outputs": [],
   "source": [
    "YEp24PGK_BglII = YEp24PGK.linearize(BglII)\n",
    "YEp24PGK_XK = (YEp24PGK_BglII + insert).looped()"
   ]
  }
 ],
 "metadata": {
  "kernelspec": {
   "display_name": "biolabsim_py38",
   "language": "python",
   "name": "biolabsim_py38"
  },
  "language_info": {
   "codemirror_mode": {
    "name": "ipython",
    "version": 3
   },
   "file_extension": ".py",
   "mimetype": "text/x-python",
   "name": "python",
   "nbconvert_exporter": "python",
   "pygments_lexer": "ipython3",
   "version": "3.8.5"
  }
 },
 "nbformat": 4,
 "nbformat_minor": 5
}
