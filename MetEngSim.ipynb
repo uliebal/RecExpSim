{
 "cells": [
  {
   "cell_type": "markdown",
   "metadata": {
    "colab_type": "text",
    "id": "dPnMzwQ_IWwZ"
   },
   "source": [
    "# Seminar Quantitativ Microbiology \n",
    "# Metabolite Production with Strain Engineering\n",
    "\n",
    "## Introduction\n",
    "\n",
    "\n",
    "For a overview on Jupyter notebooks read [this review](https://www.nature.com/articles/d41586-018-07196-1). \n",
    "\n",
    "---\n",
    "\n",
    "## Tutorial Steps\n",
    "  * Set up of Python environment\n",
    "    * Basic libraries(sys, pandas, numpy, matplotlib, zipfile, cobrapy)\n",
    "  * Analysis of Genome Scale Metabolic Model\n",
    "    * Retrieval of GSMM for *P. pastoris*\n",
    "    * Flux variability of exchange reactions\n",
    "    * Minimal medium composition\n",
    "  * Experimental growth rate reproduction\n",
    "    * Familiarizing with biomass composition reactions\n",
    "    * Defining functions for correct biomass equation switch\n",
    "    * Data retrieval\n",
    "    * Simulation loop\n",
    "    * Graphical output\n"
   ]
  },
  {
   "cell_type": "markdown",
   "metadata": {
    "colab_type": "text",
    "id": "XRP3j145RXOi"
   },
   "source": [
    "## Set-up compute environment\n",
    "\n",
    "Before we can analyse GSMM, we have adjust the python environment that it integrates the cobrapy toolbox and downloading the GSMM."
   ]
  },
  {
   "cell_type": "markdown",
   "metadata": {
    "colab_type": "text",
    "id": "ewTIEAb4Rb2G"
   },
   "source": [
    "### Basic Python libraries \n",
    "Some libraries that facilitate data manipulation"
   ]
  },
  {
   "cell_type": "code",
   "execution_count": null,
   "metadata": {
    "colab": {},
    "colab_type": "code",
    "id": "6wxIUGOEReDX"
   },
   "outputs": [],
   "source": [
    "import sys # loading commands to control/navigate within the system architecture\n",
    "# Loading pandas, a library for data manipulation\n",
    "from os.path import join\n",
    "import xlrd\n",
    "import pandas as pd\n",
    "# import lxml\n",
    "\n",
    "# Loading numpy, a library fo manipulation of numbers\n",
    "import numpy as np\n",
    "\n",
    "# loading matplotlib, a library for visualization\n",
    "import matplotlib.pyplot as plt\n",
    "%matplotlib inline\n",
    "\n",
    "# loading cobrapy, a library dedicated to the analysis of genome scale metabolic models\n",
    "from cobra.io import read_sbml_model, write_sbml_model, load_matlab_model\n",
    "\n",
    "# loading escher for metabolic network visualization\n",
    "# import escher\n",
    "# from escher import Builder\n",
    "# from time import sleep\n",
    "# escher.rc['never_ask_before_quit'] = True\n",
    "# list of available maps\n",
    "# print(escher.list_available_maps())\n",
    "\n",
    "# loading Memote, quality assessment of GSMM\n",
    "# from memote import test_model, snapshot_report\n",
    "\n",
    "from BioLabSim.ModuleVirtualOrganism.HostSetup import Host, Strain\n",
    "\n",
    "print('System ready')"
   ]
  },
  {
   "cell_type": "code",
   "execution_count": null,
   "metadata": {},
   "outputs": [],
   "source": [
    "myHost = Host('Pput', Metabolism=True)\n",
    "myHost.add_Strain('Mut1')\n",
    "myHost.show_BiotechSetting()\n",
    "print('Wild type growth rate: {:.2f}'.format(myHost.WT.info_Objective))"
   ]
  },
  {
   "cell_type": "code",
   "execution_count": null,
   "metadata": {},
   "outputs": [],
   "source": [
    "from BioLabSim.ModuleVirtualOrganism.Metabolism import Help_StrainCharacterizer\n",
    "RctNewDF = Help_StrainCharacterizer(myHost.var_Host, myHost.WT.info_GenesDF, myHost.WT.info_Genome, myHost.Mut1.info_Genome, myHost.WT.var_Model)\n",
    "RctNew = RctNewDF[RctNewDF['RctFlag']==True].index.values\n",
    "print(RctNew)\n",
    "# For reactions with reduced expression and positive flux: reduce the upper limit,\n",
    "# For reactions with increased expression and positive flux: increase the lower limit\n",
    "# for reactions with negative flux the limits are exchanged.\n",
    "FluxPos = RctNew[tuple([RctNewDF.loc[RctNew, 'RefFlux']>0])]\n",
    "FluxNeg = RctNew[tuple([RctNewDF.loc[RctNew, 'RefFlux']<0])]\n",
    "# Finding increased and decreased fluxes\n",
    "FluxInc = RctNew[RctNewDF.loc[RctNew, 'NewExpr'].values / RctNewDF.loc[RctNew, 'RefExpr'].values>1]\n",
    "FluxDec = RctNew[RctNewDF.loc[RctNew, 'NewExpr'].values / RctNewDF.loc[RctNew, 'RefExpr'].values<1]\n",
    "print('Positive: {}, Negative: {}'.format(FluxPos,FluxNeg))\n",
    "print('Increase: {}, Decrease: {}'.format(FluxInc,FluxDec))"
   ]
  },
  {
   "cell_type": "code",
   "execution_count": null,
   "metadata": {},
   "outputs": [],
   "source": [
    "from BioLabSim.ModuleMeasureOrganism.Sequencing import measure_BaseCompare\n",
    "from BioLabSim.ModuleMeasureOrganism.Fluxes import measure_EnzymeLevel1\n",
    "# myDiff = measure_BaseCompare(myHost.WT.info_Genome, myHost.Mut1.info_Genome)\n",
    "a,b,c = measure_EnzymeLevel1(myHost, myHost.Mut1)\n",
    "# print(myDiff)\n",
    "print(b,c)"
   ]
  },
  {
   "cell_type": "code",
   "execution_count": null,
   "metadata": {},
   "outputs": [],
   "source": [
    "myHost.WT.info_GenesDF\n"
   ]
  },
  {
   "cell_type": "code",
   "execution_count": null,
   "metadata": {},
   "outputs": [],
   "source": [
    "FluxDiff = myHost.Mut1.info_GenesDF['Fluxes']/myHost.WT.info_GenesDF['Fluxes']\n",
    "np.nan_to_num(FluxDiff, nan=1, posinf=1, neginf=1)"
   ]
  },
  {
   "cell_type": "code",
   "execution_count": null,
   "metadata": {},
   "outputs": [],
   "source": [
    "with open('WT-Seq.fasta', 'w') as file:\n",
    "    file.write('>WT_FullSeq\\n{}'.format(myHost.WT.info_Genome))"
   ]
  },
  {
   "cell_type": "markdown",
   "metadata": {},
   "source": [
    "## Promoter identification with SAPPHIRE"
   ]
  }
 ],
 "metadata": {
  "colab": {
   "collapsed_sections": [],
   "include_colab_link": true,
   "name": "2001_QuantMiBi1_CobraPy_SimVal.ipynb",
   "provenance": [],
   "toc_visible": true
  },
  "kernelspec": {
   "display_name": "Python 3",
   "language": "python",
   "name": "python3"
  },
  "language_info": {
   "codemirror_mode": {
    "name": "ipython",
    "version": 3
   },
   "file_extension": ".py",
   "mimetype": "text/x-python",
   "name": "python",
   "nbconvert_exporter": "python",
   "pygments_lexer": "ipython3",
   "version": "3.8.5"
  }
 },
 "nbformat": 4,
 "nbformat_minor": 4
}
