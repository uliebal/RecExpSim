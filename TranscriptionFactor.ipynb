{
 "cells": [
  {
   "cell_type": "markdown",
   "metadata": {},
   "source": [
    "### Setup aus MetEngSim"
   ]
  },
  {
   "cell_type": "code",
   "execution_count": null,
   "metadata": {
    "colab": {},
    "colab_type": "code",
    "id": "6wxIUGOEReDX"
   },
   "outputs": [],
   "source": [
    "import sys # loading commands to control/navigate within the system architecture\n",
    "# Loading pandas, a library for data manipulation\n",
    "from os.path import join\n",
    "# import xlrd\n",
    "import pandas as pd\n",
    "# import lxml\n",
    "\n",
    "# Loading numpy, a library fo manipulation of numbers\n",
    "import numpy as np\n",
    "\n",
    "# loading matplotlib, a library for visualization\n",
    "import matplotlib.pyplot as plt\n",
    "%matplotlib inline\n",
    "\n",
    "# loading cobrapy, a library dedicated to the analysis of genome scale metabolic models\n",
    "# from cobra.io import read_sbml_model, write_sbml_model, load_matlab_model\n",
    "\n",
    "# loading escher for metabolic network visualization\n",
    "# import escher\n",
    "# from escher import Builder\n",
    "# from time import sleep\n",
    "# escher.rc['never_ask_before_quit'] = True\n",
    "# list of available maps\n",
    "# print(escher.list_available_maps())\n",
    "\n",
    "# loading Memote, quality assessment of GSMM\n",
    "# from memote import test_model, snapshot_report\n",
    "\n",
    "from biolabsim import Host, Strain, Ecol\n",
    "from biolabsim import measure_EnzymeLevel1, Help_GenomeGenerator\n",
    "from Bio.Seq import Seq\n",
    "from copy import deepcopy\n",
    "\n",
    "print('System ready')"
   ]
  },
  {
   "cell_type": "markdown",
   "metadata": {},
   "source": [
    "### Change Setting\n",
    "#### Add Transkriptionsfaktor"
   ]
  },
  {
   "cell_type": "code",
   "execution_count": null,
   "metadata": {},
   "outputs": [],
   "source": [
    "def add_TranscriptionFactor(df, TFname:str):\n",
    "    newdf = df\n",
    "    \n",
    "    # add TF row:\n",
    "    TF = {\n",
    "    'RctID':[TFname], \n",
    "    'Expression':[2], # noch zu ändern mit Help_PromoterStrength()?\n",
    "    'Promoter':['GCCCATTGACCATACCGGAAGGAGATAATAAAGTTGCACG'],  # noch zu ändern (echt, random oder Fkt?)\n",
    "    'ORF': ['ATGGAGATGAAGTAA'], # noch zu ändern (echt, random oder Fkt?)\n",
    "    'Fluxes': [9], # noch zu ändern mit Help_FluxCalculator()?\n",
    "    'Expr2Flux': [4.5] # noch zu ändern mit Help_Expr2Flux()?\n",
    "    }\n",
    "    dfTF = pd.DataFrame(TF)\n",
    "    newdf = newdf.append(dfTF, ignore_index=True)\n",
    "    \n",
    "    # add TF_regulated and RegType column:\n",
    "    zeroarray = np.zeros(len(newdf),dtype=int)\n",
    "    newdf = newdf.assign(TF_regulated=zeroarray) # später zu 0 oder jeweiliger TF-RctID ändern (random oder festgesetzt?)\n",
    "    newdf = newdf.assign(RegType=zeroarray)\n",
    "    \n",
    "    # set Regulation of some Proteins:\n",
    "    TFname_Indx = (newdf['RctID']==TFname) # access TF1 row\n",
    "    newdf.loc[TFname_Indx, 'RegType'] = 'Hill_Activator' # Metabolism Status: TF as activator\n",
    "    # Future: fct recognizes what substrates are there, then makes TF_act or TF_rep\n",
    "    PFK_Indx = (newdf['RctID']=='PFK')\n",
    "    newdf.loc[PFK_Indx, 'TF_regulated'] = TFname\n",
    "    PGI_Indx = (newdf['RctID']=='PGI')\n",
    "    newdf.loc[PGI_Indx, 'TF_regulated'] = TFname #Ulf: for now all TF_regulated Proteins regulated by TF\n",
    "    return newdf"
   ]
  },
  {
   "cell_type": "markdown",
   "metadata": {},
   "source": [
    "#### Change Wildtype"
   ]
  },
  {
   "cell_type": "code",
   "execution_count": null,
   "metadata": {},
   "outputs": [],
   "source": [
    "wtHost = Ecol()\n",
    "print('Wild type growth rate: {:.2f}'.format(wtHost.strain.objective))\n",
    "\n",
    "# adding regulator TF to dataframe and genome of wt\n",
    "WTdf = wtHost.strain.genes_df\n",
    "WTdf = add_TranscriptionFactor(WTdf, 'TF1')\n",
    "wtHost.strain.genes_df = WTdf\n",
    "# Generating new Genome\n",
    "WTGenome_new = Help_GenomeGenerator(WTdf, 500, .6)\n",
    "wtHost.strain.genome = Seq(WTGenome_new)\n",
    "wtHost.strain.genes_df"
   ]
  },
  {
   "cell_type": "markdown",
   "metadata": {},
   "source": [
    "#### Change Mutant\n"
   ]
  },
  {
   "cell_type": "code",
   "execution_count": null,
   "metadata": {},
   "outputs": [],
   "source": [
    "# Generating mutant\n",
    "# We will actually define the mutations by hand and delete the automatically generated genome for now\n",
    "myHost = deepcopy(wtHost)\n",
    "# Mutants to be generated\n",
    "Mutant_Targets = ['PFK','PGK','TF1']\n",
    "\n",
    "for myMutant in Mutant_Targets:\n",
    "    Mutant_Bool = myHost.strain.genes_df['RctID']==myMutant\n",
    "    Mutant_Indx = tuple(np.arange(len(Mutant_Bool))[Mutant_Bool])\n",
    "    MTdf = myHost.strain.genes_df.copy()\n",
    "    # Finding the index for later printing\n",
    "    WTIndx = str(wtHost.strain.genome).find(wtHost.strain.genes_df.loc[Mutant_Indx, 'Promoter'])\n",
    "#     # Generating target promoter sequence, ATTGA is always there\n",
    "    PromTar = MTdf.loc[Mutant_Indx, 'Promoter'].replace('ATTGA','CCCCC')\n",
    "    # converting Biopython Seq class to string. This makes string replacements easier\n",
    "    MutGenome = str(myHost.strain.genome)\n",
    "    MutGenome = MutGenome.replace(MTdf.loc[Mutant_Indx, 'Promoter'], PromTar)\n",
    "    myHost.strain.genome = Seq(MutGenome)\n",
    "#     print('{}, Reference:\\t{},\\nMutated:\\t{}\\nwith index {}'.format(myMutant, wtHost.strain.genome[Mutant_Indx:Mutant_Indx+41], myHost.strain.genome[Mutant_Indx:Mutant_Indx+41], Mutant_Indx))\n",
    "    MTdf.loc[Mutant_Indx, 'Promoter'] = PromTar\n",
    "    myHost.strain.genes_df = MTdf\n",
    "    print(myMutant, WTIndx)"
   ]
  },
  {
   "cell_type": "code",
   "execution_count": null,
   "metadata": {},
   "outputs": [],
   "source": [
    "# Testing measure_EnzymeLevel1\n",
    "qw,we,er = measure_EnzymeLevel1('Ecol', wtHost.strain, myHost.strain)\n",
    "MT_Filt = qw['RctFlag']"
   ]
  },
  {
   "cell_type": "code",
   "execution_count": null,
   "metadata": {},
   "outputs": [],
   "source": [
    "qw"
   ]
  },
  {
   "cell_type": "code",
   "execution_count": null,
   "metadata": {},
   "outputs": [],
   "source": [
    "we"
   ]
  },
  {
   "cell_type": "code",
   "execution_count": null,
   "metadata": {},
   "outputs": [],
   "source": [
    "MTdf"
   ]
  },
  {
   "cell_type": "code",
   "execution_count": null,
   "metadata": {},
   "outputs": [],
   "source": [
    "def measure_RegulatorLevel(HostName:str, StrainWT:Strain, StrainMut:Strain, MT_Filt):\n",
    "    'Find mutated transcription factors. Additionally, (names and indexes of TFs, and) find enzymes regulated by mutated TFs'\n",
    "    from biolabsim.simulation.metabolism import Help_StrainCharacterizer\n",
    "\n",
    "    RefGenDF = StrainWT.genes_df\n",
    "    RefGenome = str(StrainWT.genome)\n",
    "    MutGenome = str(StrainMut.genome)\n",
    "    RefModel = StrainWT.model\n",
    "\n",
    "    # Change 1 from measure_EnzymeLevel1\n",
    "    TF_Indx = (RefGenDF['RegType'] != 0) # filter for TFs\n",
    "    MT_TF = TF_Indx & MT_Filt # filter for TFs with mutations \n",
    "    \n",
    "    # for now not relevant?\n",
    "    MT_TFnames = RefGenDF.loc[MT_TF, 'RctID'].values # names of mutated TFs\n",
    "    # MT_TF_indx = np.where(MT_TF == True)[0] # indexes of mutated TFs\n",
    "    MT_TFenzymes = RefGenDF.TF_regulated.isin(MT_TFnames) # filter for enzymes regulated by mutated TFs\n",
    "    \n",
    "    # Change 2 from measure_EnzymeLevel1\n",
    "    TFNewDF = Help_StrainCharacterizer(HostName, RefGenDF, RefGenome, MutGenome, RefModel)\n",
    "    TFNewDF['RctFlag']=MT_TF # convert first column from reactions with changed expression to enzymes for which TF is mutated\n",
    "    RctNewDF = TFNewDF\n",
    "    \n",
    "    RctNew = RctNewDF[RctNewDF['RctFlag']==True].index.values\n",
    "    # For reactions with reduced expression and positive flux: reduce the upper limit,\n",
    "    # For reactions with increased expression and positive flux: increase the lower limit\n",
    "    # for reactions with negative flux the limits are exchanged.\n",
    "    FluxPos = RctNew[tuple([RctNewDF.loc[RctNew, 'RefFlux']>0])]\n",
    "    FluxNeg = RctNew[tuple([RctNewDF.loc[RctNew, 'RefFlux']<0])]\n",
    "    # Finding increased and decreased fluxes\n",
    "    FluxInc = RctNew[RctNewDF.loc[RctNew, 'NewExpr'].values / RctNewDF.loc[RctNew, 'RefExpr'].values>1]\n",
    "    FluxDec = RctNew[RctNewDF.loc[RctNew, 'NewExpr'].values / RctNewDF.loc[RctNew, 'RefExpr'].values<1]\n",
    "\n",
    "    # Comb.1: positive flux with increased expression -> increasing lower bound\n",
    "    PosIncInd = np.intersect1d(FluxPos,FluxInc)\n",
    "    # Comb.2: positive flux with decreased expression -> decreasing upper bound\n",
    "    PosDecInd = np.intersect1d(FluxPos,FluxDec)\n",
    "    # Comb.3: negative flux with increased expression -> decreasing lower bound\n",
    "    NegIncInd = np.intersect1d(FluxNeg,FluxInc)\n",
    "    # Comb.4: positive flux with increased expression -> increasing lower bound\n",
    "    NegDecInd = np.intersect1d(FluxNeg,FluxDec)\n",
    "\n",
    "    Expr_Change = {'increase': np.hstack([PosIncInd,NegIncInd]),'decrease': np.hstack([PosDecInd,NegDecInd])}\n",
    "    Set_Boundary = {'lower': np.hstack([PosIncInd,NegDecInd]),'upper': np.hstack([PosDecInd,NegIncInd])}\n",
    "\n",
    "    return RctNewDF, Set_Boundary, Expr_Change, MT_TFenzymes"
   ]
  },
  {
   "cell_type": "code",
   "execution_count": null,
   "metadata": {},
   "outputs": [],
   "source": [
    "# testing measure_RegulatorLevel\n",
    "rt,tz,zu,ui = measure_RegulatorLevel('Ecol', wtHost.strain, myHost.strain, MT_Filt)"
   ]
  },
  {
   "cell_type": "code",
   "execution_count": null,
   "metadata": {},
   "outputs": [],
   "source": [
    "# Finding reactions to change. Three possibilities exits: 1. the promoter of the enzyme itself has changed, 2. the promoter of a regulator has changed, 3. the enzyme promoter and the regulator promoter have changed\n",
    "# redefining Help_FluxCalculator in simulation/metabolism\n",
    "def Help_FluxCalculator ( HostName:str, StrainWT:Strain, StrainMut:Optional[Strain] = None ) :\n",
    "    '''\n",
    "    Calculation of flux values.\n",
    "\n",
    "    This method can work in 2 modes:\n",
    "      [StrainWT only] : The metabolic model of the WT strain is used for calculation.\n",
    "      [StrainWT + StrainMut] : An additional step of resetting boundaries is done on the model\n",
    "        before the fluxes are calculated.\n",
    "\n",
    "    TODO: The \"reset boundary\" step is mutating the `StrainMut.model`, mutation might not be intended.\n",
    "      Because of this, perhaps the other `StrainWT.model` gets mutated in the process.\n",
    "    '''\n",
    "    from ..measurement.fluxes import \n",
    "\n",
    "    # adding flux values\n",
    "    # setup of flux boundaries. For the reference boundary changes are set to 'False',\n",
    "    # for mutant strains, ractions with altered promoter sequence will change enzyme levels and boundaries must be changed accordingly, their variable is 'True'\n",
    "\n",
    "    if StrainMut is not None :\n",
    "        print('resetting boundaries')\n",
    "        # finding reactions for which the expression has changed, and finding the new level\n",
    "        RctNewDF, EnzymeProm_Mutated, _ = measure_EnzymeLevel1(HostName, StrainWT, StrainMut)\n",
    "        # finding regulators whose promoter has changed, and finding the new level\n",
    "        RctNewDF, Regulator_Mutated, _ = measure_RegulatorLevel(HostName, StrainWT, StrainMut)\n",
    "        \n",
    "        \n",
    "        \n",
    "        # Defining the model with the two combinations of either\n",
    "        # increasing lower bound (increased forward, decreased reverse reaction)\n",
    "        # decreasing upper bound (decreased forward, increased reverse reaction)\n",
    "        with StrainWT.model as myModel:\n",
    "            # Comb.1: positive flux with increased expression -> increasing lower bound\n",
    "            for Indx in Set_Boundary['lower']:\n",
    "                myModel.reactions[Indx].lower_bound = RctNewDF.loc[Indx, 'NewExpr'] * RctNewDF.loc[Indx, 'Expr2Flux']\n",
    "            # Comb.2: positive flux with decreased expression -> decreasing upper bound\n",
    "            for Indx in Set_Boundary['upper']:\n",
    "                myModel.reactions[Indx].upper_bound = RctNewDF.loc[Indx, 'NewExpr'] * RctNewDF.loc[Indx, 'Expr2Flux']\n",
    "\n",
    "            Fluxes = myModel.optimize()\n",
    "\n",
    "    else:\n",
    "        Fluxes = StrainWT.model.optimize()\n",
    "\n",
    "\n",
    "    return Fluxes.fluxes.values, Fluxes.objective_value"
   ]
  },
  {
   "cell_type": "markdown",
   "metadata": {},
   "source": [
    "### Regulationsgleichung"
   ]
  },
  {
   "cell_type": "code",
   "execution_count": null,
   "metadata": {},
   "outputs": [],
   "source": [
    "# in Help_FluxCalculator:\n",
    "\n",
    "for Indx in Set_Boundary['lower']:\n",
    "                myModel.reactions[Indx].lower_bound = FluxEquation(Indx, wtHost.strain.genes_df, myHost.strain.genes_df)\n",
    "for Indx in Set_Boundary['upper']:\n",
    "                myModel.reactions[Indx].upper_bound = FluxEquation(Indx, wtHost.strain.genes_df, myHost.strain.genes_df)\n",
    "\n",
    "\n",
    "# (equationtype = myEquations[RctNewDF.loc[Indx, 'Expr2Flux']])\n",
    "\n",
    "\n",
    "def FluxEquation(index, WTdf, MTdf): \n",
    "    '''gibt abhängig davon, ob das Protein vom TF reguliert wird oder nicht, die Gleichung an, mit der der Flux berechnet wird'''\n",
    "          \n",
    "    myTF = WTdf.loc[index, 'TF_regulated']\n",
    "    \n",
    "    # linear\n",
    "    if WTdf[index,'TF_regulated'] == 0: \n",
    "        \n",
    "        Corr_ExprFlux = WTdf.loc[index, 'Expr2Flux'] # WT o. MT\n",
    "        Flux = MTdf.loc[index, 'NewExpr'] * Corr_ExprFlux \n",
    "        return Flux\n",
    "    \n",
    "    # Hill\n",
    "    else:\n",
    "        \n",
    "        RegIndx = (WTdf['RctID']==WTdf[index,'TF_regulated'])\n",
    "        \n",
    "        MaxExpr = 2 * MTdf.loc[index, 'Expression'].values # bei physiologischem cTF-Wert Flux= mtExpr\n",
    "        cTF = MTdf.loc[RegIndx, 'Expression'].values # abhängig von geändertem TF-Promotor\n",
    "        K = WTdf.loc[index, 'Expression'].values # physiologischer Wert von c, Expression/Expr2Flux, beeinflusst Aktivität des TF, WT:nicht durch promotor geändert\n",
    "        n = 1.95 # Kim, Harold D.; O'Shea, Erin K. (2008): A quantitative model of transcription factor–activated gene expression. DOI: 10.1038/nsmb.1500.  \n",
    "        \n",
    "        \n",
    "        if WTdf[RegIndx,'RegType'] == 'Hill_Activator':\n",
    "\n",
    "            Flux = MaxExpr / (1+(K/cTF)**n)\n",
    "\n",
    "            return Flux\n",
    "    \n",
    "        elif WTdf[RegIndx,'RegType'] == 'Hill_Repressor':\n",
    "\n",
    "            Flux = MaxExpr * (1 - 1/ (1+(K/cTF)**n))\n",
    "\n",
    "            return Flux"
   ]
  },
  {
   "cell_type": "markdown",
   "metadata": {},
   "source": [
    "### Vergleich von WT und MT aus MetEngSim"
   ]
  },
  {
   "cell_type": "code",
   "execution_count": null,
   "metadata": {},
   "outputs": [],
   "source": [
    "wtHost.strain.genes_df"
   ]
  },
  {
   "cell_type": "code",
   "execution_count": null,
   "metadata": {},
   "outputs": [],
   "source": [
    "myHost.strain.genes_df"
   ]
  },
  {
   "cell_type": "code",
   "execution_count": null,
   "metadata": {},
   "outputs": [],
   "source": [
    "mylist = np.array(wtHost.strain.genes_df['Expression'])\n",
    "mylist2 = np.array(myHost.strain.genes_df['Expression'])\n",
    "print('Gene expression differences')\n",
    "np.round(mylist2/mylist,2)"
   ]
  },
  {
   "cell_type": "code",
   "execution_count": null,
   "metadata": {},
   "outputs": [],
   "source": [
    "myl = np.array(wtHost.strain.genes_df['Expr2Flux'])\n",
    "myl2 = np.array(myHost.strain.genes_df['Expr2Flux'])\n",
    "# myHost.strain.genes_df\n",
    "print('Exp2Flux diff')\n",
    "np.round(myl2/myl,2)"
   ]
  },
  {
   "cell_type": "code",
   "execution_count": null,
   "metadata": {},
   "outputs": [],
   "source": [
    "FluxDiff = myHost.strain.genes_df['Fluxes']/wtHost.strain.genes_df['Fluxes']\n",
    "print('Flux reaction differences')\n",
    "np.round(np.nan_to_num(FluxDiff, nan=1, posinf=1, neginf=1),2)"
   ]
  }
 ],
 "metadata": {
  "colab": {
   "collapsed_sections": [],
   "include_colab_link": true,
   "name": "2001_QuantMiBi1_CobraPy_SimVal.ipynb",
   "provenance": [],
   "toc_visible": true
  },
  "kernelspec": {
   "display_name": "Python 3",
   "language": "python",
   "name": "python3"
  },
  "language_info": {
   "codemirror_mode": {
    "name": "ipython",
    "version": 3
   },
   "file_extension": ".py",
   "mimetype": "text/x-python",
   "name": "python",
   "nbconvert_exporter": "python",
   "pygments_lexer": "ipython3",
   "version": "3.8.5"
  }
 },
 "nbformat": 4,
 "nbformat_minor": 4
}
