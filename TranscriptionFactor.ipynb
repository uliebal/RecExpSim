{
 "cells": [
  {
   "cell_type": "markdown",
   "metadata": {},
   "source": [
    "### Setup aus MetEngSim"
   ]
  },
  {
   "cell_type": "code",
   "execution_count": 1,
   "metadata": {
    "colab": {},
    "colab_type": "code",
    "id": "6wxIUGOEReDX"
   },
   "outputs": [
    {
     "name": "stdout",
     "output_type": "stream",
     "text": [
      "System ready\n"
     ]
    }
   ],
   "source": [
    "import sys # loading commands to control/navigate within the system architecture\n",
    "# Loading pandas, a library for data manipulation\n",
    "from os.path import join\n",
    "# import xlrd\n",
    "import pandas as pd\n",
    "# import lxml\n",
    "\n",
    "# Loading numpy, a library fo manipulation of numbers\n",
    "import numpy as np\n",
    "\n",
    "# loading matplotlib, a library for visualization\n",
    "import matplotlib.pyplot as plt\n",
    "%matplotlib inline\n",
    "\n",
    "# loading cobrapy, a library dedicated to the analysis of genome scale metabolic models\n",
    "# from cobra.io import read_sbml_model, write_sbml_model, load_matlab_model\n",
    "\n",
    "# loading escher for metabolic network visualization\n",
    "# import escher\n",
    "# from escher import Builder\n",
    "# from time import sleep\n",
    "# escher.rc['never_ask_before_quit'] = True\n",
    "# list of available maps\n",
    "# print(escher.list_available_maps())\n",
    "\n",
    "# loading Memote, quality assessment of GSMM\n",
    "# from memote import test_model, snapshot_report\n",
    "\n",
    "from biolabsim import Host, Strain, Ecol\n",
    "\n",
    "print('System ready')"
   ]
  },
  {
   "cell_type": "code",
   "execution_count": 2,
   "metadata": {},
   "outputs": [
    {
     "name": "stderr",
     "output_type": "stream",
     "text": [
      "<__array_function__ internals>:5: VisibleDeprecationWarning: Creating an ndarray from ragged nested sequences (which is a list-or-tuple of lists-or-tuples-or ndarrays with different lengths or shapes) is deprecated. If you meant to do this, you must specify 'dtype=object' when creating the ndarray\n"
     ]
    },
    {
     "name": "stdout",
     "output_type": "stream",
     "text": [
      "Host: Ecol\n",
      "Resources: 40\n",
      "Substrate: None\n",
      "Strain: WT\n",
      "Wild type growth rate: 0.87\n",
      "\n"
     ]
    },
    {
     "name": "stderr",
     "output_type": "stream",
     "text": [
      "C:\\ProgramData\\Anaconda3\\lib\\site-packages\\sklearn\\base.py:329: UserWarning: Trying to unpickle estimator DecisionTreeRegressor from version 0.22.1 when using version 0.23.2. This might lead to breaking code or invalid results. Use at your own risk.\n",
      "  warnings.warn(\n",
      "C:\\ProgramData\\Anaconda3\\lib\\site-packages\\sklearn\\base.py:329: UserWarning: Trying to unpickle estimator RandomForestRegressor from version 0.22.1 when using version 0.23.2. This might lead to breaking code or invalid results. Use at your own risk.\n",
      "  warnings.warn(\n",
      "C:\\ProgramData\\Anaconda3\\lib\\site-packages\\sklearn\\base.py:329: UserWarning: Trying to unpickle estimator DecisionTreeRegressor from version 0.22.1 when using version 0.23.2. This might lead to breaking code or invalid results. Use at your own risk.\n",
      "  warnings.warn(\n",
      "C:\\ProgramData\\Anaconda3\\lib\\site-packages\\sklearn\\base.py:329: UserWarning: Trying to unpickle estimator RandomForestRegressor from version 0.22.1 when using version 0.23.2. This might lead to breaking code or invalid results. Use at your own risk.\n",
      "  warnings.warn(\n",
      "C:\\ProgramData\\Anaconda3\\lib\\site-packages\\sklearn\\base.py:329: UserWarning: Trying to unpickle estimator DecisionTreeRegressor from version 0.22.1 when using version 0.23.2. This might lead to breaking code or invalid results. Use at your own risk.\n",
      "  warnings.warn(\n",
      "C:\\ProgramData\\Anaconda3\\lib\\site-packages\\sklearn\\base.py:329: UserWarning: Trying to unpickle estimator RandomForestRegressor from version 0.22.1 when using version 0.23.2. This might lead to breaking code or invalid results. Use at your own risk.\n",
      "  warnings.warn(\n"
     ]
    },
    {
     "name": "stdout",
     "output_type": "stream",
     "text": [
      "resetting boundaries\n",
      "Host: Ecol\n",
      "Resources: 40\n",
      "Substrate: None\n",
      "Strain: Mut1\n",
      "Mutation growth rate: 0.85\n"
     ]
    }
   ],
   "source": [
    "wtHost = Ecol()\n",
    "wtHost.show_BiotechSetting()\n",
    "print('Wild type growth rate: {:.2f}'.format(wtHost.strain.objective))\n",
    "print()\n",
    "myHost = wtHost.clone_with_mutation('Mut1')\n",
    "myHost.show_BiotechSetting()\n",
    "print('Mutation growth rate: {:.2f}'.format(myHost.strain.objective))"
   ]
  },
  {
   "cell_type": "markdown",
   "metadata": {},
   "source": [
    "### Ändern des Dataframes\n",
    "#### Hinzufügen des Transkriptionsfaktors"
   ]
  },
  {
   "cell_type": "code",
   "execution_count": 10,
   "metadata": {},
   "outputs": [],
   "source": [
    "def add_TranscriptionFactor(df):\n",
    "    newdf = df\n",
    "    \n",
    "    # add TF row:\n",
    "    TF = {\n",
    "    'RctID':['TF'], \n",
    "    'Expression':[2], # noch zu ändern mit Help_PromoterStrength()?\n",
    "    'Promoter':['GCCCATTGACCATACCGGAAGGAGATAATAAAGTTGCACG'],  # noch zu ändern (echt, random oder Fkt?)\n",
    "    'ORF': ['ATGGAGATGAAGTAA'], # noch zu ändern (echt, random oder Fkt?)\n",
    "    'Fluxes': [9], # noch zu ändern mit Help_FluxCalculator()?\n",
    "    'Expr2Flux': [4.5] # noch zu ändern mit Help_Expr2Flux()?\n",
    "    }\n",
    "    dfTF = pd.DataFrame(TF)\n",
    "    newdf = newdf.append(dfTF, ignore_index=True)\n",
    "    \n",
    "    # add TF_regulated and RegType column:\n",
    "    zeroarray = np.zeros(len(newdf),dtype=int)\n",
    "    newdf = newdf.assign(TF_regulated=zeroarray) # später zu 0 oder jeweiliger TF-RctID ändern (random oder festgesetzt?)\n",
    "    newdf = newdf.assign(RegType=zeroarray)\n",
    "    \n",
    "    # set Regulation of some Proteins:\n",
    "    filt = (newdf['RctID']=='TF') # access TF row\n",
    "    newdf.loc[filt, 'TF_regulated'] = 'TF' # TF regulated by itself\n",
    "    newdf.loc[filt, 'RegType'] = 'Hill_Activator' # Metabolism Status: TF as activator\n",
    "    # Future: fct recognizes what substrates are there, then makes TF_act or TF_rep\n",
    "    filt = (newdf['RctID']=='PFK')\n",
    "    newdf.loc[filt, 'TF_regulated'] = 'TF'\n",
    "    newdf.loc[filt, 'RegType'] = 'Hill_Activator'\n",
    "    filt = (newdf['RctID']=='PGI')\n",
    "    newdf.loc[filt, 'TF_regulated'] = 'TF' # for now all TF_regulated Proteins regulated by TF\n",
    "    newdf.loc[filt, 'RegType'] = 'Hill_Activator'\n",
    "    return newdf"
   ]
  },
  {
   "cell_type": "code",
   "execution_count": 11,
   "metadata": {},
   "outputs": [
    {
     "data": {
      "text/html": [
       "<div>\n",
       "<style scoped>\n",
       "    .dataframe tbody tr th:only-of-type {\n",
       "        vertical-align: middle;\n",
       "    }\n",
       "\n",
       "    .dataframe tbody tr th {\n",
       "        vertical-align: top;\n",
       "    }\n",
       "\n",
       "    .dataframe thead th {\n",
       "        text-align: right;\n",
       "    }\n",
       "</style>\n",
       "<table border=\"1\" class=\"dataframe\">\n",
       "  <thead>\n",
       "    <tr style=\"text-align: right;\">\n",
       "      <th></th>\n",
       "      <th>RctID</th>\n",
       "      <th>Expression</th>\n",
       "      <th>Promoter</th>\n",
       "      <th>ORF</th>\n",
       "      <th>Fluxes</th>\n",
       "      <th>Expr2Flux</th>\n",
       "      <th>TF_regulated</th>\n",
       "      <th>RegType</th>\n",
       "    </tr>\n",
       "  </thead>\n",
       "  <tbody>\n",
       "    <tr>\n",
       "      <th>0</th>\n",
       "      <td>PFK</td>\n",
       "      <td>0.963</td>\n",
       "      <td>GCCCATTGAAGTGAGTAAGAATACTTTCTAGGTTTGCACG</td>\n",
       "      <td>ATGTTCCGTCGCTAA</td>\n",
       "      <td>7.477382</td>\n",
       "      <td>7.764675</td>\n",
       "      <td>TF</td>\n",
       "      <td>Hill_Activator</td>\n",
       "    </tr>\n",
       "    <tr>\n",
       "      <th>1</th>\n",
       "      <td>PFL</td>\n",
       "      <td>3.590</td>\n",
       "      <td>GCCCATTGACAAGATGGCGGGTAAGGTTTAAATTTGCACG</td>\n",
       "      <td>ATGATTTGTATGTAA</td>\n",
       "      <td>0.000000</td>\n",
       "      <td>0.000000</td>\n",
       "      <td>0</td>\n",
       "      <td>0</td>\n",
       "    </tr>\n",
       "    <tr>\n",
       "      <th>2</th>\n",
       "      <td>PGI</td>\n",
       "      <td>1.406</td>\n",
       "      <td>GCCCATTGACTCACTCCGCAACCAGGCGTAGTATTGCACG</td>\n",
       "      <td>ATGGATGGGCCATAG</td>\n",
       "      <td>4.860861</td>\n",
       "      <td>3.457227</td>\n",
       "      <td>TF</td>\n",
       "      <td>Hill_Activator</td>\n",
       "    </tr>\n",
       "    <tr>\n",
       "      <th>3</th>\n",
       "      <td>PGK</td>\n",
       "      <td>1.093</td>\n",
       "      <td>GCCCATTGAGCCTTTAGCCAAGATGTATTAGGTTTGCACG</td>\n",
       "      <td>ATGGATGGCCAATAA</td>\n",
       "      <td>-16.023526</td>\n",
       "      <td>-14.660134</td>\n",
       "      <td>0</td>\n",
       "      <td>0</td>\n",
       "    </tr>\n",
       "    <tr>\n",
       "      <th>4</th>\n",
       "      <td>PGL</td>\n",
       "      <td>4.144</td>\n",
       "      <td>GCCCATTGAAAATTATGGAGCGTCGTATTACACTTGCACG</td>\n",
       "      <td>ATGGGTCAGTTTTGA</td>\n",
       "      <td>4.959985</td>\n",
       "      <td>1.196908</td>\n",
       "      <td>0</td>\n",
       "      <td>0</td>\n",
       "    </tr>\n",
       "    <tr>\n",
       "      <th>...</th>\n",
       "      <td>...</td>\n",
       "      <td>...</td>\n",
       "      <td>...</td>\n",
       "      <td>...</td>\n",
       "      <td>...</td>\n",
       "      <td>...</td>\n",
       "      <td>...</td>\n",
       "      <td>...</td>\n",
       "    </tr>\n",
       "    <tr>\n",
       "      <th>91</th>\n",
       "      <td>NADTRHD</td>\n",
       "      <td>2.814</td>\n",
       "      <td>GCCCATTGACAGCGCTAACAACCCTTGTTATGCTTGCACG</td>\n",
       "      <td>ATGCGTGTGGAATAA</td>\n",
       "      <td>0.000000</td>\n",
       "      <td>0.000000</td>\n",
       "      <td>0</td>\n",
       "      <td>0</td>\n",
       "    </tr>\n",
       "    <tr>\n",
       "      <th>92</th>\n",
       "      <td>NH4t</td>\n",
       "      <td>1.694</td>\n",
       "      <td>GCCCATTGAAAAAGCGTTGGGGTTGGTTTAGCATTGCACG</td>\n",
       "      <td>ATGGATCTGGGCTAA</td>\n",
       "      <td>4.765319</td>\n",
       "      <td>2.813057</td>\n",
       "      <td>0</td>\n",
       "      <td>0</td>\n",
       "    </tr>\n",
       "    <tr>\n",
       "      <th>93</th>\n",
       "      <td>O2t</td>\n",
       "      <td>2.133</td>\n",
       "      <td>GCCCATTGAAAGGTGACCGCCGGGATAGTACGATTGCACG</td>\n",
       "      <td>ATGAATACAGAATGA</td>\n",
       "      <td>21.799493</td>\n",
       "      <td>10.220109</td>\n",
       "      <td>0</td>\n",
       "      <td>0</td>\n",
       "    </tr>\n",
       "    <tr>\n",
       "      <th>94</th>\n",
       "      <td>PDH</td>\n",
       "      <td>1.005</td>\n",
       "      <td>GCCCATTGATTGTGTGAGGCCGCTAGTTTAGTTTTGCACG</td>\n",
       "      <td>ATGAGTGTCGGCTAA</td>\n",
       "      <td>9.282533</td>\n",
       "      <td>9.236351</td>\n",
       "      <td>0</td>\n",
       "      <td>0</td>\n",
       "    </tr>\n",
       "    <tr>\n",
       "      <th>95</th>\n",
       "      <td>TF</td>\n",
       "      <td>2.000</td>\n",
       "      <td>GCCCATTGACCATACCGGAAGGAGATAATAAAGTTGCACG</td>\n",
       "      <td>ATGGAGATGAAGTAA</td>\n",
       "      <td>9.000000</td>\n",
       "      <td>4.500000</td>\n",
       "      <td>TF</td>\n",
       "      <td>Hill_Activator</td>\n",
       "    </tr>\n",
       "  </tbody>\n",
       "</table>\n",
       "<p>96 rows × 8 columns</p>\n",
       "</div>"
      ],
      "text/plain": [
       "      RctID  Expression                                  Promoter  \\\n",
       "0       PFK       0.963  GCCCATTGAAGTGAGTAAGAATACTTTCTAGGTTTGCACG   \n",
       "1       PFL       3.590  GCCCATTGACAAGATGGCGGGTAAGGTTTAAATTTGCACG   \n",
       "2       PGI       1.406  GCCCATTGACTCACTCCGCAACCAGGCGTAGTATTGCACG   \n",
       "3       PGK       1.093  GCCCATTGAGCCTTTAGCCAAGATGTATTAGGTTTGCACG   \n",
       "4       PGL       4.144  GCCCATTGAAAATTATGGAGCGTCGTATTACACTTGCACG   \n",
       "..      ...         ...                                       ...   \n",
       "91  NADTRHD       2.814  GCCCATTGACAGCGCTAACAACCCTTGTTATGCTTGCACG   \n",
       "92     NH4t       1.694  GCCCATTGAAAAAGCGTTGGGGTTGGTTTAGCATTGCACG   \n",
       "93      O2t       2.133  GCCCATTGAAAGGTGACCGCCGGGATAGTACGATTGCACG   \n",
       "94      PDH       1.005  GCCCATTGATTGTGTGAGGCCGCTAGTTTAGTTTTGCACG   \n",
       "95       TF       2.000  GCCCATTGACCATACCGGAAGGAGATAATAAAGTTGCACG   \n",
       "\n",
       "                ORF     Fluxes  Expr2Flux TF_regulated         RegType  \n",
       "0   ATGTTCCGTCGCTAA   7.477382   7.764675           TF  Hill_Activator  \n",
       "1   ATGATTTGTATGTAA   0.000000   0.000000            0               0  \n",
       "2   ATGGATGGGCCATAG   4.860861   3.457227           TF  Hill_Activator  \n",
       "3   ATGGATGGCCAATAA -16.023526 -14.660134            0               0  \n",
       "4   ATGGGTCAGTTTTGA   4.959985   1.196908            0               0  \n",
       "..              ...        ...        ...          ...             ...  \n",
       "91  ATGCGTGTGGAATAA   0.000000   0.000000            0               0  \n",
       "92  ATGGATCTGGGCTAA   4.765319   2.813057            0               0  \n",
       "93  ATGAATACAGAATGA  21.799493  10.220109            0               0  \n",
       "94  ATGAGTGTCGGCTAA   9.282533   9.236351            0               0  \n",
       "95  ATGGAGATGAAGTAA   9.000000   4.500000           TF  Hill_Activator  \n",
       "\n",
       "[96 rows x 8 columns]"
      ]
     },
     "execution_count": 11,
     "metadata": {},
     "output_type": "execute_result"
    }
   ],
   "source": [
    "newdf = wtHost.strain.genes_df\n",
    "newdf = add_TranscriptionFactor(newdf)\n",
    "newdf"
   ]
  },
  {
   "cell_type": "code",
   "execution_count": 5,
   "metadata": {},
   "outputs": [],
   "source": [
    "# unnötig but nett to know: random alle Gene durch TF regulieren lassen oder nicht\n",
    "\n",
    "# import random\n",
    "\n",
    "# rand_onoff = random.randint(0,1)\n",
    "    \n",
    "# newdf['TF_regulated'] = newdf['TF_regulated'].apply(lambda x: x * 0 + onoff)\n",
    "\n",
    "# newdf"
   ]
  },
  {
   "cell_type": "markdown",
   "metadata": {},
   "source": [
    "### Regulationsgleichung"
   ]
  },
  {
   "cell_type": "code",
   "execution_count": 6,
   "metadata": {},
   "outputs": [
    {
     "ename": "NameError",
     "evalue": "name 'Set_Boundary' is not defined",
     "output_type": "error",
     "traceback": [
      "\u001b[1;31m---------------------------------------------------------------------------\u001b[0m",
      "\u001b[1;31mNameError\u001b[0m                                 Traceback (most recent call last)",
      "\u001b[1;32m<ipython-input-6-ae986d85097b>\u001b[0m in \u001b[0;36m<module>\u001b[1;34m\u001b[0m\n\u001b[0;32m      1\u001b[0m \u001b[1;31m# in Help_FluxCalculator:\u001b[0m\u001b[1;33m\u001b[0m\u001b[1;33m\u001b[0m\u001b[1;33m\u001b[0m\u001b[0m\n\u001b[0;32m      2\u001b[0m \u001b[1;33m\u001b[0m\u001b[0m\n\u001b[1;32m----> 3\u001b[1;33m \u001b[1;32mfor\u001b[0m \u001b[0mIndx\u001b[0m \u001b[1;32min\u001b[0m \u001b[0mSet_Boundary\u001b[0m\u001b[1;33m[\u001b[0m\u001b[1;34m'lower'\u001b[0m\u001b[1;33m]\u001b[0m\u001b[1;33m:\u001b[0m\u001b[1;33m\u001b[0m\u001b[1;33m\u001b[0m\u001b[0m\n\u001b[0m\u001b[0;32m      4\u001b[0m                 \u001b[0mmyModel\u001b[0m\u001b[1;33m.\u001b[0m\u001b[0mreactions\u001b[0m\u001b[1;33m[\u001b[0m\u001b[0mIndx\u001b[0m\u001b[1;33m]\u001b[0m\u001b[1;33m.\u001b[0m\u001b[0mlower_bound\u001b[0m \u001b[1;33m=\u001b[0m \u001b[0mFluxEquation\u001b[0m\u001b[1;33m(\u001b[0m\u001b[0mIndx\u001b[0m\u001b[1;33m,\u001b[0m \u001b[0mwtHost\u001b[0m\u001b[1;33m.\u001b[0m\u001b[0mstrain\u001b[0m\u001b[1;33m.\u001b[0m\u001b[0mgenes_df\u001b[0m\u001b[1;33m,\u001b[0m \u001b[0mmyHost\u001b[0m\u001b[1;33m.\u001b[0m\u001b[0mstrain\u001b[0m\u001b[1;33m.\u001b[0m\u001b[0mgenes_df\u001b[0m\u001b[1;33m)\u001b[0m\u001b[1;33m\u001b[0m\u001b[1;33m\u001b[0m\u001b[0m\n\u001b[0;32m      5\u001b[0m \u001b[1;32mfor\u001b[0m \u001b[0mIndx\u001b[0m \u001b[1;32min\u001b[0m \u001b[0mSet_Boundary\u001b[0m\u001b[1;33m[\u001b[0m\u001b[1;34m'upper'\u001b[0m\u001b[1;33m]\u001b[0m\u001b[1;33m:\u001b[0m\u001b[1;33m\u001b[0m\u001b[1;33m\u001b[0m\u001b[0m\n",
      "\u001b[1;31mNameError\u001b[0m: name 'Set_Boundary' is not defined"
     ]
    }
   ],
   "source": [
    "# in Help_FluxCalculator:\n",
    "\n",
    "for Indx in Set_Boundary['lower']:\n",
    "                myModel.reactions[Indx].lower_bound = FluxEquation(Indx, wtHost.strain.genes_df, myHost.strain.genes_df)\n",
    "for Indx in Set_Boundary['upper']:\n",
    "                myModel.reactions[Indx].upper_bound = FluxEquation(Indx, wtHost.strain.genes_df, myHost.strain.genes_df)\n",
    "\n",
    "\n",
    "# (equationtype = myEquations[RctNewDF.loc[Indx, 'Expr2Flux']])\n",
    "\n",
    "\n",
    "def FluxEquation(index, WTdf, MTdf): \n",
    "    '''gibt abhängig davon, ob das Protein vom TF reguliert wird oder nicht, die Gleichung an, mit der der Flux berechnet wird'''\n",
    "          \n",
    "    myTF = WTdf.loc[index, 'TF_regulated']\n",
    "    \n",
    "    # linear\n",
    "    if WTdf[index,'TF_regulated'] == 0: \n",
    "        \n",
    "        Corr_ExprFlux = WTdf.loc[index, 'Expr2Flux'] # WT o. MT\n",
    "        Flux = MTdf.loc[index, 'NewExpr'] * Corr_ExprFlux \n",
    "        return Flux\n",
    "    \n",
    "    # Hill\n",
    "    else:\n",
    "        \n",
    "        RegIndx = (WTdf['RctID']==WTdf[index,'TF_regulated'])\n",
    "        \n",
    "        MaxExpr = 2 * MTdf.loc[index, 'Expression'].values # bei physiologischem cTF-Wert Flux= mtExpr\n",
    "        cTF = MTdf.loc[RegIndx, 'Expression'].values # abhängig von geändertem TF-Promotor\n",
    "        K = WTdf.loc[index, 'Expression'].values # physiologischer Wert von c, Expression/Expr2Flux, beeinflusst Aktivität des TF, WT:nicht durch promotor geändert\n",
    "        n = 1.95 # Kim, Harold D.; O'Shea, Erin K. (2008): A quantitative model of transcription factor–activated gene expression. DOI: 10.1038/nsmb.1500.  \n",
    "        \n",
    "        \n",
    "        if WTdf[RegIndx,'RegType'] == 'Hill_Activator':\n",
    "\n",
    "            Flux = MaxExpr / (1+(K/cTF)**n)\n",
    "\n",
    "            return Flux\n",
    "    \n",
    "        elif WTdf[RegIndx,'RegType'] == 'Hill_Repressor':\n",
    "\n",
    "            Flux = MaxExpr * (1 - 1/ (1+(K/cTF)**n))\n",
    "\n",
    "            return Flux"
   ]
  },
  {
   "cell_type": "markdown",
   "metadata": {},
   "source": [
    "### Vergleich von WT und MT aus MetEngSim"
   ]
  },
  {
   "cell_type": "code",
   "execution_count": null,
   "metadata": {},
   "outputs": [],
   "source": [
    "wtHost.strain.genes_df"
   ]
  },
  {
   "cell_type": "code",
   "execution_count": null,
   "metadata": {},
   "outputs": [],
   "source": [
    "myHost.strain.genes_df"
   ]
  },
  {
   "cell_type": "code",
   "execution_count": null,
   "metadata": {},
   "outputs": [],
   "source": [
    "mylist = np.array(wtHost.strain.genes_df['Expression'])\n",
    "mylist2 = np.array(myHost.strain.genes_df['Expression'])\n",
    "print('Gene expression differences')\n",
    "np.round(mylist2/mylist,2)"
   ]
  },
  {
   "cell_type": "code",
   "execution_count": null,
   "metadata": {},
   "outputs": [],
   "source": [
    "myl = np.array(wtHost.strain.genes_df['Expr2Flux'])\n",
    "myl2 = np.array(myHost.strain.genes_df['Expr2Flux'])\n",
    "# myHost.strain.genes_df\n",
    "print('Exp2Flux diff')\n",
    "np.round(myl2/myl,2)"
   ]
  },
  {
   "cell_type": "code",
   "execution_count": null,
   "metadata": {},
   "outputs": [],
   "source": [
    "FluxDiff = myHost.strain.genes_df['Fluxes']/wtHost.strain.genes_df['Fluxes']\n",
    "print('Flux reaction differences')\n",
    "np.round(np.nan_to_num(FluxDiff, nan=1, posinf=1, neginf=1),2)"
   ]
  }
 ],
 "metadata": {
  "colab": {
   "collapsed_sections": [],
   "include_colab_link": true,
   "name": "2001_QuantMiBi1_CobraPy_SimVal.ipynb",
   "provenance": [],
   "toc_visible": true
  },
  "kernelspec": {
   "display_name": "Python 3",
   "language": "python",
   "name": "python3"
  },
  "language_info": {
   "codemirror_mode": {
    "name": "ipython",
    "version": 3
   },
   "file_extension": ".py",
   "mimetype": "text/x-python",
   "name": "python",
   "nbconvert_exporter": "python",
   "pygments_lexer": "ipython3",
   "version": "3.8.5"
  }
 },
 "nbformat": 4,
 "nbformat_minor": 4
}
