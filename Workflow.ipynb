{
 "cells": [
  {
   "cell_type": "markdown",
   "metadata": {},
   "source": [
    "### Introduction\n",
    "This Workflow simulates putting the E. Coli core genome under the regulation of specific transcription factors and mutating certain reactions. The programm then calculates the changed metabolic flux. The changes can be visualized with an escher metabolic map."
   ]
  },
  {
   "cell_type": "markdown",
   "metadata": {},
   "source": [
    "### Set up symstem"
   ]
  },
  {
   "cell_type": "code",
   "execution_count": null,
   "metadata": {},
   "outputs": [],
   "source": [
    "import sys # loading commands to control/navigate within the system architecture\n",
    "# Loading pandas, a library for data manipulation\n",
    "from os.path import join\n",
    "# import xlrd\n",
    "import pandas as pd\n",
    "# import lxml\n",
    "\n",
    "# Loading numpy, a library fo manipulation of numbers\n",
    "import numpy as np\n",
    "\n",
    "# loading matplotlib, a library for visualization\n",
    "import matplotlib.pyplot as plt\n",
    "%matplotlib inline\n",
    "\n",
    "from biolabsim import Host, Strain, Ecol\n",
    "from biolabsim import measure_EnzymeLevel1, Help_GenomeGenerator, Strain, make_UpdateExpression, Help_StrainCharacterizer, Help_PromoterStrength, Help_Expr2Flux\n",
    "from Bio.Seq import Seq\n",
    "from pandas.core.frame import DataFrame\n",
    "from copy import deepcopy\n",
    "\n",
    "# import escher\n",
    "# from escher import Builder\n",
    "\n",
    "print('System ready')"
   ]
  },
  {
   "cell_type": "code",
   "execution_count": null,
   "metadata": {
    "scrolled": true
   },
   "outputs": [],
   "source": [
    "# changed or new functions for this workflow\n",
    "%run \"TFMetEngSim.ipynb\" \n",
    "\n",
    "print('Functions ready')"
   ]
  },
  {
   "cell_type": "markdown",
   "metadata": {},
   "source": [
    "### List of reactions regulated by certain TFs\n",
    "According to the aim of the experiment and the used medium you can choose the transcription factor(s) from this list."
   ]
  },
  {
   "cell_type": "code",
   "execution_count": null,
   "metadata": {},
   "outputs": [],
   "source": [
    "# for 'CRP1'\n",
    "CRP_activated = ['PFL','PGK','ACALD','ACKr','PPCK','AKGDH','CS','SUCCt2_2','SUCDi','SUCOAS','FBA','FBP','FORt2','FORt','FRUpts2','FUM','FUMt2_2','GAPD','GLCpts','GLNS','MALt2_2','MDH','PDH']\n",
    "# for 'CRP2'\n",
    "CRP_repressed = ['PPCK','AKGDH','GLCpts','GLNS','GLUDy','GLUSy','ICL','MALS','PDH']\n",
    "# for 'Cra1'\n",
    "Cra_activated = ['ACOMTa','ACONTb','PPCK','PPS','CYTBD','FRUpts2','GLCpts','ICDHyr','ICL','MALS']\n",
    "# for 'Cra2'\n",
    "Cra_repressed = ['PFK','PGK','ALCD2x','PPC', 'ACOMTa','ACONTb','PYK','ENO','TPI','FBA','FRUpts2','G6PDH2r','GAPD','GLCpts','PDH']\n",
    "# for 'ArcA1'\n",
    "ArcA_activated = ['PFL','ACKr','AKGDH','CYTBD','SUCDi','SUCOAS','FUM']\n",
    "# for 'ArcA2'\n",
    "ArcA_repressed = ['ACONTa','ACONTb','AKGDH','CS','SUCCt2_2','D_LACt2','SUCDi','SUCOAS','FUM','GLCpts','GLNS','ICDHyr','MALS','MALt2_2','MDH','NADH16','PDH']\n",
    "# for 'FNR1'\n",
    "FNR_activated = ['PFL','Plt2r','ALCD2x','ACKr','ACONTa','ACONTb','AKGDH','CYTBD','FRD7','FUM','GLUDy','NH4t','PDH']\n",
    "# for 'FNR2'\n",
    "FNR_repressed = ['PFL','AKGDH','CYTBD','SUCDi','SUCOAS','FORt2','FORt','G6PDH2r','GLNS','GLUSy','GND','NADH16','NH4t','PDH']"
   ]
  },
  {
   "cell_type": "markdown",
   "metadata": {},
   "source": [
    "### Set up wildtype and add transcription factor regulation\n",
    "Set the name of the transcriptionfactor as string on the second variable of `add_TranscriptionFactor()` and set the RctIDs of the targeted enzymes as list of strings as the third variable. Add more rows with more regulators if needed."
   ]
  },
  {
   "cell_type": "code",
   "execution_count": null,
   "metadata": {},
   "outputs": [],
   "source": [
    "wtHost = Ecol()\n",
    "print('Wild type growth rate: {:.2f}'.format(wtHost.strain.objective))\n",
    "\n",
    "# adding regulator TF to dataframe and genome of wt\n",
    "WTdf = wtHost.strain.genes_df\n",
    "WTdf = add_TranscriptionFactor(WTdf, 'Cra1', Cra_activated, 'Activator')\n",
    "WTdf = add_TranscriptionFactor(WTdf, 'Cra2', Cra_repressed, 'Repressor')\n",
    "\n",
    "# update wildtype dataframe's Expression and Expr2Flux\n",
    "WTdf = Update_DF(WTdf)\n",
    "# putting the genes dataframe back to the wild type\n",
    "wtHost.strain.genes_df = WTdf\n",
    "# Generating new Genome\n",
    "WTGenome_new = Help_GenomeGenerator(WTdf, 500, .6)\n",
    "wtHost.strain.genome = Seq(WTGenome_new)\n",
    "\n",
    "wtHost.strain.genes_df\n",
    "\n",
    "# braucht noch Einstellung welche werte der TF bekommt"
   ]
  },
  {
   "cell_type": "markdown",
   "metadata": {},
   "source": [
    "### Mutate the Host\n",
    "Insert the RctIDs of the Proteins you want to mutate in `Mutant_Proteins` as a list of strings. \n",
    "Insert the mutated Sequence in `insertSeq` as a string.\n",
    "The sequence to be replaced is standardized as the always present ATTGA."
   ]
  },
  {
   "cell_type": "code",
   "execution_count": null,
   "metadata": {},
   "outputs": [],
   "source": [
    "# Generating mutant\n",
    "# We will actually define the mutations by hand and delete the automatically generated genome for now\n",
    "\n",
    "myHost = deepcopy(wtHost)\n",
    "\n",
    "Mutant_Proteins = ['Cra1','Cra2']\n",
    "insertSeq = 'CCCCC'\n",
    "\n",
    "# mutate Promoter in Genome and genes_df\n",
    "MutGenome, MTdf = Help_mutatePromoter(Mutant_Proteins, myHost.strain, insertSeq, cutSeq='ATTGA')\n",
    "myHost.strain.genome = Seq(MutGenome)\n",
    "myHost.strain.genes_df = MTdf.copy()\n",
    "\n",
    "# updating expression of regulated enzymes\n",
    "AllNewDF = measure_EnzymeLevel('Ecol', wtHost.strain, myHost.strain)\n",
    "CorrRegExpr = calculate_mutatedRegulatedExpression(WTdf, AllNewDF)\n",
    "AllNewDF['NewExpr'] = CorrRegExpr\n",
    "AllNewDF['NewFlux'] = AllNewDF['NewExpr']*WTdf['Expr2Flux']\n",
    "AllNewDF"
   ]
  },
  {
   "cell_type": "markdown",
   "metadata": {},
   "source": [
    "## Calculation of mutant flux distribution\n",
    "The updated expression activities are converted to reference flux values and according to the reference flux new boundaries are set in the GSMM. The wild type and mutant flux distributions are stored in a dictionary for visualization in Escher."
   ]
  },
  {
   "cell_type": "code",
   "execution_count": null,
   "metadata": {},
   "outputs": [],
   "source": [
    "solution,_ = Help_FluxCalculator('Ecol', myHost.strain, AllNewDF)\n",
    "RefFluxDict = WTdf.set_index('RctID')['Fluxes'].to_dict()\n",
    "NewFluxDict = {a:b for a,b in zip(WTdf['RctID'].values, solution)}\n",
    "AllFluxDict = [RefFluxDict, NewFluxDict]\n",
    "# {WTdf['RctID'].tolist(): solution}"
   ]
  },
  {
   "cell_type": "markdown",
   "metadata": {},
   "source": [
    "### Visualization of flux differences\n",
    "Escher is used to visualize the flux differences on the central carbon metabolism map. Open the output-html file `Escher-Metabol-Map.html` by double click in the Jupyter Lab environment and `Trust` the file.\n",
    "\n",
    "Then load the out.json file in Data -> load reaction data"
   ]
  },
  {
   "cell_type": "code",
   "execution_count": null,
   "metadata": {},
   "outputs": [],
   "source": [
    "# create json file of AllFluxDict\n",
    "\n",
    "import json\n",
    "\n",
    "flux_dictionary = AllFluxDict\n",
    "with open('out2.json', 'w') as f:\n",
    "    json.dump(flux_dictionary, f)\n",
    "    \n",
    "print('created json file')"
   ]
  }
 ],
 "metadata": {
  "kernelspec": {
   "display_name": "Python 3",
   "language": "python",
   "name": "python3"
  },
  "language_info": {
   "codemirror_mode": {
    "name": "ipython",
    "version": 3
   },
   "file_extension": ".py",
   "mimetype": "text/x-python",
   "name": "python",
   "nbconvert_exporter": "python",
   "pygments_lexer": "ipython3",
   "version": "3.8.5"
  }
 },
 "nbformat": 4,
 "nbformat_minor": 4
}
