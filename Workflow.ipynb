{
 "cells": [
  {
   "cell_type": "markdown",
   "metadata": {},
   "source": [
    "### Introduction\n",
    "This Workflow simulates putting the E. Coli core genome under the regulation of specific transcription factors and mutating certain reactions. The programm then calculates the changed metabolic flux. The changes can be visualized with an *escher* metabolic map."
   ]
  },
  {
   "cell_type": "markdown",
   "metadata": {},
   "source": [
    "### Set up symstem"
   ]
  },
  {
   "cell_type": "code",
   "execution_count": null,
   "metadata": {
    "scrolled": true
   },
   "outputs": [],
   "source": [
    "# changed or new functions for this workflow\n",
    "%run \"TFMetEngSim.ipynb\" \n",
    "\n",
    "print('System ready')"
   ]
  },
  {
   "cell_type": "markdown",
   "metadata": {},
   "source": [
    "### List of reactions regulated by certain TFs\n",
    "According to the aim of the experiment and the used medium you can choose the transcription factor(s) from this list.\n",
    "_a stands for the activating properties and _r for the repressing properties of a TF.\n",
    "\n",
    "[kurze Erklärung zu den einzelnen TF und wodurch (welches Medium) sie aktiviert werden]"
   ]
  },
  {
   "cell_type": "code",
   "execution_count": null,
   "metadata": {},
   "outputs": [],
   "source": [
    "# for 'CRP_a'\n",
    "#CRP_activated = ['PFL','PGK','ACALD','ACKr','PPCK','AKGDH','CS','SUCCt2_2','SUCDi','SUCOAS','FBA','FBP','FORt2','FORt','FRUpts2','FUM','FUMt2_2','GAPD','GLCpts','GLNS','MALt2_2','MDH','PDH']\n",
    "CRP_activated = ['PFL','PGK','ACALD','ACKr','CS','SUCCt2_2','SUCDi','SUCOAS','FBA','FBP','FORt2','FORt','FRUpts2','FUM','FUMt2_2','GAPD','MALt2_2','MDH',] # only ones not also repressed\n",
    "# for 'CRP_r'\n",
    "CRP_repressed = ['PPCK','AKGDH','GLCpts','GLNS','GLUDy','GLUSy','ICL','MALS','PDH'] # all that can be repressed\n",
    "#CRP_repressed = ['GLUDy','GLUSy','ICL','MALS'] # only the ones not also activated\n",
    "# can both activate and repress itself\n",
    "# Medium: df.loc[51, 'Fluxes']=0\n",
    "\n",
    "# for 'Cra_a'\n",
    "# Cra_activated = ['ACONTa','ACONTb','PPCK','PPS','CYTBD','FRUpts2','GLCpts','ICDHyr','ICL','MALS'] # all that can be activated\n",
    "Cra_activated = ['PPCK','PPS','CYTBD','ICDHyr','ICL','MALS'] # only the ones not also repressed\n",
    "# for 'Cra_r'\n",
    "Cra_repressed = ['PFK','PGK','ALCD2x','PPC', 'ACONTa','ACONTb','PYK','ENO','TPI','FBA','FRUpts2','G6PDH2r','GAPD','GLCpts','PDH'] #all that can be repressed\n",
    "Cra_repressed = ['PFK','PGK','ALCD2x','PPC','PYK','ENO','TPI','FBA','G6PDH2r','GAPD','PDH'] # only the ones not also acticated\n",
    "# deactivated by fructose-1-phosphate and fructose-1,6-bisphosphate\n",
    "# FRUpts2?\n",
    "# df.loc[49, 'Fluxes']=0; ...\n",
    "\n",
    "# for 'ArcA_a'\n",
    "# ArcA_activated = ['PFL','ACKr','AKGDH','CYTBD','SUCDi','SUCOAS','FUM']\n",
    "# ArcA_repressed = ['ACONTa','ACONTb','AKGDH','CS','SUCCt2_2','D_LACt2','SUCDi','SUCOAS','FUM','GLCpts','GLNS','ICDHyr','MALS','MALt2_2','MDH','NADH16','PDH']\n",
    "# according to https://pubmed.ncbi.nlm.nih.gov/7855430/: AKGDH negative, SUCDi negative, SUCODAS negative, FUM eher positive\n",
    "\n",
    "# for 'ArcA_a'\n",
    "ArcA_activated = ['PFL','ACKr','CYTBD','FUM']\n",
    "# for 'ArcA_r'\n",
    "ArcA_repressed = ['ACONTa','ACONTb','AKGDH','CS','SUCCt2_2','D_LACt2','SUCDi','SUCOAS','GLCpts','GLNS','ICDHyr','MALS','MALt2_2','MDH','NADH16','PDH']\n",
    "# higher concentration under aerobic conditions\n",
    "\n",
    "# for 'FNR_a'\n",
    "# FNR_activated = ['PFL','Plt2r','ALCD2x','ACKr','ACONTa','ACONTb','AKGDH','CYTBD','FRD7','FUM','GLUDy','NH4t','PDH']\n",
    "# # for 'FNR_r'\n",
    "# FNR_repressed = ['PFL','AKGDH','CYTBD','SUCDi','SUCOAS','FORt2','FORt','G6PDH2r','GLNS','GLUSy','GND','NADH16','NH4t','PDH'] \n",
    "# according to https://pubmed.ncbi.nlm.nih.gov/7855430/: PFL positive, AKGDH: ?, CYTBD negative,NH4t: ammonium transport, PDH: ?\n",
    "\n",
    "#FNR_activated = ['PFL','Plt2r','ALCD2x','ACKr','ACONTa','ACONTb','AKGDH','FRD7','FUM','GLUDy','NH4t','PDH']\n",
    "FNR_activated = ['PFL','Plt2r','ALCD2x','ACKr','ACONTa','ACONTb','FRD7','FUM','GLUDy'] # only not repressed ones\n",
    "# for 'FNR_r'\n",
    "FNR_repressed = ['AKGDH','CYTBD','SUCDi','SUCOAS','FORt2','FORt','G6PDH2r','GLNS','GLUSy','GND','NADH16','NH4t','PDH']\n",
    "#FNR_repressed = ['CYTBD','SUCDi','SUCOAS','FORt2','FORt','G6PDH2r','GLNS','GLUSy','GND','NADH16'] # only not activated ones\n",
    "# FNR generally represses itself\n",
    "# active only under anaerobic conditions\n",
    "# df.loc[59, 'Fluxes']=0\n",
    "\n",
    "# for 'NarL_a'\n",
    "NarL_activated = ['NADH16']\n",
    "# for 'NArL_r'\n",
    "NarL_repressed = ['PFL','ALCD2x','FORt2','FORt','FRD7','FUM']\n",
    "# active while availability of nitrate during anaerobiosis \n",
    "# nitrate not in the model? anaerob: df.loc[59, 'Fluxes']=0\n",
    "\n",
    "print('transcription factor targets loaded')"
   ]
  },
  {
   "cell_type": "markdown",
   "metadata": {},
   "source": [
    "### Set up wildtype and add transcription factor regulation\n",
    "Set the name of the transcriptionfactor as string on the second variable of `add_TranscriptionFactor()` and set the RctIDs of the targeted enzymes as list of strings as the third variable. Add more rows with more regulators if needed."
   ]
  },
  {
   "cell_type": "code",
   "execution_count": null,
   "metadata": {},
   "outputs": [],
   "source": [
    "# new unique promoters and their Expr stengths\n",
    "# PromStenghts= {'GCCCATTGACAAGGCTCTCTCGGCCAGGTATAATTGCAAA': 5.133,\n",
    "#                'GCCCATTGACAAGGCTCTCGCGCGAGTGTATAATTGCACG': 4.787,\n",
    "#                'GCCCATTGACAAGGCTCTCGCGGCCAGGTATAATTGCAAA': 5.537, TAATTCCCC, 27.2%,\n",
    "#                'GCCCATTGACAAGGCTCTCGTTACCAAGTATAATTGCAAA': 4.956,\n",
    "#                'GCTTATTGACAAGGCTCTCGTTACCAAGTATAAGTGCGGG': 4.903\n",
    "#                'GCCCATTGAGCCGAAGGTGGTCGAGCGATATAATTGCACG': 1.7}\n",
    " "
   ]
  },
  {
   "cell_type": "code",
   "execution_count": null,
   "metadata": {},
   "outputs": [],
   "source": [
    "wtHost = Ecol()\n",
    "print('Wild type growth rate: {:.2f}'.format(wtHost.strain.objective))"
   ]
  },
  {
   "cell_type": "code",
   "execution_count": null,
   "metadata": {},
   "outputs": [],
   "source": [
    "# change the medium\n",
    "\n",
    "medium = wtHost.strain.model.medium\n",
    "medium[\"EX_o2_e\"] = 0.0 # make anaerobic conditions\n",
    "# medium[\"EX_glc__D_e\"] = 0.0 # medium without glucose\n",
    "# medium[\"EX_fru_e\"] = 10.0 # medium with fructose\n",
    "# medium[\"EX_no3_e\"] = ... # medium with nitrate\n",
    "\n",
    "wtHost.strain.model.medium = medium\n",
    "wtHost.strain.model.medium"
   ]
  },
  {
   "cell_type": "code",
   "execution_count": null,
   "metadata": {},
   "outputs": [],
   "source": [
    "solution = wtHost.strain.model.optimize()\n",
    "wtHost.strain.genes_df['Fluxes'] = solution.fluxes.values\n",
    "wtHost.strain.genes_df"
   ]
  },
  {
   "cell_type": "code",
   "execution_count": null,
   "metadata": {},
   "outputs": [],
   "source": [
    "wtHost.strain.model.summary()"
   ]
  },
  {
   "cell_type": "code",
   "execution_count": null,
   "metadata": {},
   "outputs": [],
   "source": [
    "print('Wild type growth rate: {:.2f}'.format(wtHost.strain.objective))\n",
    "pd.set_option('display.max_rows', None) # show all rows\n",
    "wtHost.strain.genes_df"
   ]
  },
  {
   "cell_type": "code",
   "execution_count": null,
   "metadata": {},
   "outputs": [],
   "source": [
    "TFname1 = 'CRP_a'\n",
    "TFname2 = 'CRP_r'\n",
    "# adding regulator TF to dataframe and genome of wt\n",
    "WTdf = wtHost.strain.genes_df\n",
    "WTdf = add_TranscriptionFactor(WTdf,TFname1,'Activator','GCCCATTGAGCCGAAGGTGGTCGAGCGATATAATTGCACG','ATGCCCCCCAAGTAA')\n",
    "WTdf = add_TranscriptionFactorReg(WTdf,TFname1,CRP_activated)\n",
    "WTdf = add_TranscriptionFactor(WTdf,TFname2,'Repressor','GCCCATTGAGCCGAAGGTGGTCGAGCGATATAATTGCACC','ATGCCCCCCAATTAA')\n",
    "WTdf = add_TranscriptionFactorReg(WTdf,TFname2,CRP_repressed)\n",
    "\n",
    "# update wildtype dataframe's Expression and Expr2Flux\n",
    "WTdf = Update_DF(WTdf)\n",
    "# putting the genes dataframe back to the wild type\n",
    "wtHost.strain.genes_df = WTdf\n",
    "# Generating new Genome\n",
    "WTGenome_new = Help_GenomeGenerator(WTdf, 500, .6)\n",
    "wtHost.strain.genome = Seq(WTGenome_new)\n",
    "\n",
    "wtHost.strain.genes_df"
   ]
  },
  {
   "cell_type": "markdown",
   "metadata": {},
   "source": [
    "### Mutate the Host\n",
    "Insert the RctIDs of the Reactions you want to mutate in `Mutants` as a list of strings. \n",
    "Insert the mutated Sequence in `insertSeq` as a string.\n",
    "The sequence to be replaced is standardized as the always present ATTGA."
   ]
  },
  {
   "cell_type": "code",
   "execution_count": null,
   "metadata": {},
   "outputs": [],
   "source": [
    "# Generating mutant (define the mutations by hand and delete the automatically generated genome for now)\n",
    "\n",
    "myHost = deepcopy(wtHost)\n",
    "\n",
    "Mutants = [TFname2, TFname1]\n",
    "Mutant_Targets = Mutants\n",
    "insertSeq = 'ATTCCCCTGGAA'\n",
    "# original: 'ATTGA'\n",
    "\n",
    "# # mutate Promoter in Genome and genes_df\n",
    "# # loop doesn't work in function, only last one mutated\n",
    "# MutGenome, MTdf = Help_mutatePromoter(Mutants, wtHost.strain, myHost.strain, insertSeq, cutSeq='ATTGA')\n",
    "# myHost.strain.genome = Seq(MutGenome)\n",
    "# myHost.strain.genes_df = MTdf.copy()\n",
    "for myMutant in Mutant_Targets:\n",
    "#     Mutant_Bool = myHost.strain.genes_df['RctID']==myMutant\n",
    "#     Mutant_Indx = tuple(np.arange(len(Mutant_Bool))[Mutant_Bool])\n",
    "    MTdf = myHost.strain.genes_df.copy()\n",
    "    Mutant_Indx = tuple(MTdf[MTdf['RctID'] == myMutant].index.values)\n",
    "    # Finding the index for later printing\n",
    "    WTIndx = str(wtHost.strain.genome).find(wtHost.strain.genes_df.loc[Mutant_Indx, 'Promoter'])\n",
    "#     # Generating target promoter sequence, ATTGA is always there\n",
    "    PromTar = MTdf.loc[Mutant_Indx, 'Promoter'].replace('ATTGA',insertSeq)\n",
    "    # converting Biopython Seq class to string. This makes string replacements easier\n",
    "    MutGenome = str(myHost.strain.genome)\n",
    "    MutGenome = MutGenome.replace(MTdf.loc[Mutant_Indx, 'Promoter'], PromTar)\n",
    "    myHost.strain.genome = Seq(MutGenome)\n",
    "    MTdf.loc[Mutant_Indx, 'Promoter'] = PromTar\n",
    "    myHost.strain.genes_df = MTdf.copy()\n",
    "#     print('{}, Reference:\\t{},\\nMutated:\\t{}\\nwith index {}'.format(myMutant, wtHost.strain.genome[Mutant_Indx:Mutant_Indx+41], myHost.strain.genome[Mutant_Indx:Mutant_Indx+41], Mutant_Indx))\n",
    "    print(myMutant, WTIndx)\n",
    "    \n",
    "# introducing a new Dataframe with old and new Expression and FLux, respectively\n",
    "AllNewDF = measure_EnzymeLevel('Ecol', wtHost.strain, myHost.strain)"
   ]
  },
  {
   "cell_type": "code",
   "execution_count": null,
   "metadata": {},
   "outputs": [],
   "source": [
    "# change for a TF with both activatiing and repressing property\n",
    "'''because with more than one mutation, the NewExpr is calculated differently \n",
    "in comparison with the NewExpr with just one mutation, \n",
    "it is changed manually, so that it is the same TF'''\n",
    "AllNewDF.loc[96, 'NewExpr'] = AllNewDF.loc[95, 'NewExpr']\n",
    "AllNewDF['NewFlux'] = AllNewDF['NewExpr']*WTdf['Expr2Flux']"
   ]
  },
  {
   "cell_type": "code",
   "execution_count": null,
   "metadata": {},
   "outputs": [],
   "source": [
    "# calculate the NewExpr of TF-regulated reactions and mutated reactions\n",
    "CorrRegExpr = calculate_mutatedRegulatedExpression(WTdf, AllNewDF)\n",
    "AllNewDF['NewExpr'] = CorrRegExpr\n",
    "AllNewDF['NewFlux'] = AllNewDF['NewExpr']*WTdf['Expr2Flux']\n",
    "AllNewDF"
   ]
  },
  {
   "cell_type": "markdown",
   "metadata": {},
   "source": [
    "## Calculation of mutant flux distribution\n",
    "The updated expression activities are converted to reference flux values and according to the reference flux new boundaries are set in the GSMM. The wild type and mutant flux distributions are stored in a dictionary for visualization in Escher."
   ]
  },
  {
   "cell_type": "code",
   "execution_count": null,
   "metadata": {},
   "outputs": [],
   "source": [
    "solution,_ = Help_FluxCalculator('Ecol', myHost.strain, AllNewDF)\n",
    "RefFluxDict = WTdf.set_index('RctID')['Fluxes'].to_dict()\n",
    "NewFluxDict = {a:b for a,b in zip(WTdf['RctID'].values, solution)}\n",
    "AllFluxDict = [RefFluxDict, NewFluxDict]\n",
    "# {WTdf['RctID'].tolist(): solution}"
   ]
  },
  {
   "cell_type": "markdown",
   "metadata": {},
   "source": [
    "### Visualization of flux differences\n",
    "Escher is used to visualize the flux differences on the central carbon metabolism map. Open the output-html file `Escher-Metabol-Map.html` by double click in the Jupyter Lab environment and `Trust` the file.\n",
    "\n",
    "Then load the out.json file in Data -> load reaction data"
   ]
  },
  {
   "cell_type": "code",
   "execution_count": null,
   "metadata": {},
   "outputs": [],
   "source": [
    "# name of the new file\n",
    "filename = 'CRP_rvoll_glcx'"
   ]
  },
  {
   "cell_type": "code",
   "execution_count": null,
   "metadata": {},
   "outputs": [],
   "source": [
    "# create json file of AllFluxDict\n",
    "\n",
    "import json\n",
    "\n",
    "flux_dictionary = AllFluxDict\n",
    "with open(filename+'.json', 'w') as f:\n",
    "    json.dump(flux_dictionary, f)\n",
    "    \n",
    "print('created json file')"
   ]
  },
  {
   "cell_type": "markdown",
   "metadata": {},
   "source": [
    "### Additional tools"
   ]
  },
  {
   "cell_type": "code",
   "execution_count": null,
   "metadata": {},
   "outputs": [],
   "source": [
    "# load to excel file\n",
    "AllNewDF.to_excel(filename+'.xlsx')"
   ]
  },
  {
   "cell_type": "code",
   "execution_count": null,
   "metadata": {},
   "outputs": [],
   "source": [
    "# for visualizing all rows of a dataframe:\n",
    "pd.set_option('display.max_rows', None)\n",
    "# insert the name of the Dataframe:\n",
    "#AllNewDF"
   ]
  },
  {
   "cell_type": "code",
   "execution_count": null,
   "metadata": {},
   "outputs": [],
   "source": [
    "# test the strength of a promoter\n",
    "a = Help_PromoterStrength('Ecol', 'GCCCATTCCCCTGGAAGCCGAAGGTGGTCGAGCGATATAATTGCACG')\n",
    "a"
   ]
  },
  {
   "cell_type": "markdown",
   "metadata": {},
   "source": [
    "##### Combinations of promoters and mutations:\n",
    "\n",
    "Promoter: GCCCATTGACAAGGCTCTCGCGGCCAGGTATAATTGCAAA\n",
    "\n",
    "* 5.537 --> 1.507:  'TAATTCCCC'\n",
    "\n",
    "Promoter: GCCCATTGAGCCGAAGGTGGTCGAGCGATATAATTGCACG\n",
    "\n",
    "* 1.7 --> 3.419:  'ATTCCCCTGGAA'\n"
   ]
  }
 ],
 "metadata": {
  "kernelspec": {
   "display_name": "biolabsim",
   "language": "python",
   "name": "biolabsim"
  },
  "language_info": {
   "codemirror_mode": {
    "name": "ipython",
    "version": 3
   },
   "file_extension": ".py",
   "mimetype": "text/x-python",
   "name": "python",
   "nbconvert_exporter": "python",
   "pygments_lexer": "ipython3",
   "version": "3.9.1"
  }
 },
 "nbformat": 4,
 "nbformat_minor": 4
}
